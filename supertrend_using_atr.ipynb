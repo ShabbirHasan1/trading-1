{
  "nbformat": 4,
  "nbformat_minor": 0,
  "metadata": {
    "colab": {
      "name": "supertrend using atr.ipynb",
      "provenance": [],
      "collapsed_sections": []
    },
    "kernelspec": {
      "name": "python3",
      "display_name": "Python 3"
    },
    "language_info": {
      "name": "python"
    }
  },
  "cells": [
    {
      "cell_type": "code",
      "metadata": {
        "colab": {
          "base_uri": "https://localhost:8080/"
        },
        "id": "hdDB1cIdOMq-",
        "outputId": "aa2a958a-cd4b-4390-be52-4e32dbcf8f32"
      },
      "source": [
        "from google.colab import drive\n",
        "import datetime\n",
        "import pandas as pd\n",
        "\n",
        "pd.options.mode.chained_assignment = None  # default='warn'\n",
        "drive.mount('/content/drive')"
      ],
      "execution_count": null,
      "outputs": [
        {
          "output_type": "stream",
          "text": [
            "Mounted at /content/drive\n"
          ],
          "name": "stdout"
        }
      ]
    },
    {
      "cell_type": "code",
      "metadata": {
        "colab": {
          "base_uri": "https://localhost:8080/"
        },
        "id": "q9tEGbsuOVJP",
        "outputId": "6e22914a-9aa2-4818-98a8-7ac7fc9593aa"
      },
      "source": [
        "!pip install ta"
      ],
      "execution_count": null,
      "outputs": [
        {
          "output_type": "stream",
          "text": [
            "Collecting ta\n",
            "  Downloading https://files.pythonhosted.org/packages/a9/22/a355ecf2d67da8150332d22ef65c3a1f79109528279bf5d40735b6f2bd72/ta-0.7.0.tar.gz\n",
            "Requirement already satisfied: numpy in /usr/local/lib/python3.7/dist-packages (from ta) (1.19.5)\n",
            "Requirement already satisfied: pandas in /usr/local/lib/python3.7/dist-packages (from ta) (1.1.5)\n",
            "Requirement already satisfied: pytz>=2017.2 in /usr/local/lib/python3.7/dist-packages (from pandas->ta) (2018.9)\n",
            "Requirement already satisfied: python-dateutil>=2.7.3 in /usr/local/lib/python3.7/dist-packages (from pandas->ta) (2.8.1)\n",
            "Requirement already satisfied: six>=1.5 in /usr/local/lib/python3.7/dist-packages (from python-dateutil>=2.7.3->pandas->ta) (1.15.0)\n",
            "Building wheels for collected packages: ta\n",
            "  Building wheel for ta (setup.py) ... \u001b[?25l\u001b[?25hdone\n",
            "  Created wheel for ta: filename=ta-0.7.0-cp37-none-any.whl size=28716 sha256=86ca907ca34a30985d37f994621caccf186f8174dd64f877076b9ed2a39e72aa\n",
            "  Stored in directory: /root/.cache/pip/wheels/dd/88/30/de9553fb54a474eb7480b937cdbb140bdda613d29cf4da7994\n",
            "Successfully built ta\n",
            "Installing collected packages: ta\n",
            "Successfully installed ta-0.7.0\n"
          ],
          "name": "stdout"
        }
      ]
    },
    {
      "cell_type": "code",
      "metadata": {
        "id": "gisAam_WOXx_"
      },
      "source": [
        "import ta as ta\n",
        "import numpy as np"
      ],
      "execution_count": null,
      "outputs": []
    },
    {
      "cell_type": "code",
      "metadata": {
        "colab": {
          "base_uri": "https://localhost:8080/"
        },
        "id": "7YMYqu5DOaXG",
        "outputId": "e1510d97-0995-4518-b3e1-939f3fb379ab"
      },
      "source": [
        "pd.options.mode.chained_assignment = None \n",
        "dfx = pd.DataFrame( columns = [\"STOCK\",\"CANDLE\",\"PERIOD\",\"mult\",\"BUYTARGETACHIEVED\",\"SELLTARGETACHIEVED\",\"PROFITABLETRADES\",\"LOSSTRADES\", \"TOTALTRADES\",\"PNL\"])\n",
        "                               \n",
        "STOCKS = ['NIFTY','BANKNIFTY','RELIANCE','HDFC','HDFCBANK','TATAMOTORS','TATASTEEL','ASHOKLEY','AXISBANK','AUROPHARMA','BHARATFORG','BPCL','BIOCON','BHARTIARTL','BANKBARODA','CIPLA','CADILAHC','DIVISLAB','DRREDDY','ESCORTS','GLENMARK','HINDALCO','HCLTECH','INFY','ICICIBANK','LUPIN','LT','MARUTI','SUNTV','SUNPHARMA','SBIN','BAJFINANCE','BATAINDIA','MGL','MINDTREE','JUBLFOOD','INDUSINDBK']\n",
        "\n",
        "\n",
        "STOCKS = ['NIFTY','BANKNIFTY']\n",
        "#STOCKS = ['MOTHERSUMI','NATIONALUM','NMDC','NTPC','SAIL','SIEMENS','TATACHEM','TATAMOTORS','TATAPOWER','VEDL','ADANIENT','ADANIPORTS','BEL','BHARTIARTL','BHEL','BPCL','CUMMINSIND','GMRINFRA','GRASIM','L&TFH']\n",
        "\n",
        "\n",
        "\n",
        "minutess = [5,10,15,30,60,90,120]\n",
        "#minutess = [120]\n",
        "\n",
        "\n",
        "for instrument in STOCKS:\n",
        "  print(instrument)\n",
        "  stock = f\"{instrument}-I.NFO\"\n",
        "  listt = []\n",
        "  \n",
        "  for minutes in minutess:\n",
        "    df = pd.read_csv(f\"/content/drive/My Drive/reports/{instrument} [NSE FAO] 25MAR2021(I-{minutes}m).csv\")\n",
        "    df.columns = ['DATETIME',f'Open{minutes}Min',f'High{minutes}Min',f'Low{minutes}Min',f'Close{minutes}Min','Volume','Value','OI','DQ','Unnamed: 9']\n",
        "\n",
        "    df['DATETIME'] = df.iloc[:,0]\n",
        "    #pd.to_datetime(df['DATETIME'], format='%Y-%m-%d %H:%M:%S')\n",
        "    pd.to_datetime(df['DATETIME'], format='%d/%m/%Y %H:%M:%S  %p')\n",
        "    for period in np.arange(2,20):\n",
        "      for multiplier in np.arange(2,20):  \n",
        "      \n",
        "        #df = pd.read_csv(f\"/content/drive/My Drive/reports/alltimeframe{stock}FINALLhalf.csv\")\n",
        "\n",
        "\n",
        "        #df = df.set_index('DATETIME')\n",
        "        \n",
        "        \n",
        "\n",
        "        dfvolget = df.loc[(df[f'High{minutes}Min'] > 0)]\n",
        "\n",
        "        \n",
        "        noofrows = (dfvolget.shape[0])\n",
        "        period = min(noofrows,period)\n",
        "        dfvolget['ATR'] = np.NaN\n",
        "        df['ATR'] = np.NaN\n",
        "        dfvolget['ATR'] = ta.volatility.average_true_range(high = dfvolget[f'High{minutes}Min'],low = dfvolget[f'Low{minutes}Min'],close = dfvolget[f'Close{minutes}Min'],window= int(period))\n",
        "        df['ATR'] = dfvolget['ATR']\n",
        "\n",
        "        dfHIGHLOWATR = df.loc[(df['ATR'] > 0)]\n",
        "        dfHIGHLOWATR[f'average{minutes}Min'] = (dfHIGHLOWATR[f'High{minutes}Min'] + dfHIGHLOWATR[f'Low{minutes}Min'])/2\n",
        "\n",
        "        dfHIGHLOWATR['UPPERATR'] = dfHIGHLOWATR[f'average{minutes}Min'] + multiplier*dfHIGHLOWATR['ATR']\n",
        "        dfHIGHLOWATR['LOWERATR'] = dfHIGHLOWATR[f'average{minutes}Min'] - multiplier*dfHIGHLOWATR['ATR']\n",
        "        df['UPPERATR'] = dfHIGHLOWATR['UPPERATR']\n",
        "        df['LOWERATR'] = dfHIGHLOWATR['LOWERATR']\n",
        "\n",
        "        df['UPPERATR'] = (df['UPPERATR'].ffill())\n",
        "        df['LOWERATR'] = (df['LOWERATR'].ffill())\n",
        "            \n",
        "        df['UPPERATR'] = (df['UPPERATR'].shift(1))\n",
        "        df['LOWERATR'] = (df['LOWERATR'].shift(1))\n",
        "        df[f'Openfortrade{minutes}Min'] = df[f'Open{minutes}Min'].shift(-1)\n",
        "\n",
        "\n",
        "        dfz = pd.DataFrame(columns= df.columns)\n",
        "\n",
        "        buytoploss = []\n",
        "        sellstoploss = []\n",
        "        traded = 0\n",
        "        squareoff = 0\n",
        "        buytraded = 0\n",
        "        selltraded = 0\n",
        "        buytradedat = 0\n",
        "        selltradedat = 0\n",
        "        df['PNL'] = np.NaN\n",
        "        df['TRADE'] = np.NaN\n",
        "        #df['TRADED'] = np.NaN\n",
        "\n",
        "        group = (df.loc[(df[f'Close{minutes}Min'] > 0)])\n",
        "        \n",
        "          \n",
        "        group.loc[group[f'Close{minutes}Min'] > group['UPPERATR'], 'TRADE'] = 'BUY'\n",
        "        group.loc[group[f'Close{minutes}Min'] < group['LOWERATR'], 'TRADE'] = 'SELL'\n",
        "        group.dropna(subset = [\"TRADE\"], inplace=True)\n",
        "\n",
        "        trade_signal = group['TRADE']\n",
        "        ts_shifted = trade_signal.shift(1)\n",
        "        group['TRADE'] = np.where(trade_signal != ts_shifted, trade_signal, np.NaN)\n",
        "\n",
        "        group.dropna(subset = [\"TRADE\"], inplace=True)\n",
        "\n",
        "      \n",
        "        \n",
        "        group.loc[group['TRADE'] == 'BUY', 'TRADED'] = group[f'Openfortrade{minutes}Min']\n",
        "        group.loc[group['TRADE'] == 'SELL', 'TRADED'] = group[f'Openfortrade{minutes}Min']\n",
        "\n",
        "        trade_signal = group['TRADE']\n",
        "        traded_signal = group['TRADED']\n",
        "        ts_shifted = trade_signal.shift(1)\n",
        "        trade_shifted = traded_signal.shift(1)\n",
        "        group['PNL'] = np.where(trade_signal == 'BUY',trade_shifted - traded_signal,traded_signal - trade_shifted)\n",
        "\n",
        "        dfz = group\n",
        "\n",
        "\n",
        "\n",
        "\n",
        "\n",
        "\n",
        "        XP = (dfz.loc[(dfz['TRADE'] == \"SELL\") & (dfz['PNL'] > 0)])\n",
        "        buytargetachieved = XP.shape[0]\n",
        "        XP = (dfz.loc[(dfz['TRADE'] == \"BUY\") & (dfz['PNL'] > 0)])\n",
        "        selltargetachieved = XP.shape[0]\n",
        "        XP = (dfz.loc[(dfz['PNL'] < 0)])\n",
        "        losstrades = XP.shape[0]\n",
        "        XP = (dfz.loc[(dfz['PNL'] > 0)])\n",
        "        profittrades = XP.shape[0]\n",
        "        XP = 0\n",
        "        totaltrades = profittrades + losstrades\n",
        "\n",
        "        #experiment\n",
        "        total = dfz['PNL'].sum()\n",
        "        #dfz.to_csv(f\"/content/drive/My Drive/reports/ATRREP.csv\")\n",
        "        #experiment\n",
        "\n",
        "\n",
        "\n",
        "\n",
        "        report = [stock, minutes,period,multiplier, buytargetachieved, selltargetachieved,profittrades, losstrades, totaltrades, total]\n",
        "              \n",
        "        TOTAL = [total,report]\n",
        "        listt.append(TOTAL)\n",
        "        dfz = pd.DataFrame()\n",
        "\n",
        "\n",
        "\n",
        "\n",
        "  report = max(listt)[-1]\n",
        "  \n",
        "\n",
        "  to_append = report\n",
        "  a_series = pd.Series(to_append, index=dfx.columns)\n",
        "  dfx = dfx.append(a_series, ignore_index=True)\n",
        "\n",
        "  #print(dfz)\n",
        "  #print(dfz.to_csv(f\"/content/drive/My Drive/reports/{stock}max{minutes}EXPERIMENTWITHOUTfromMAY.csv\"))\n",
        "  listt.clear()\n",
        "  dfz = pd.DataFrame()\n",
        "  \n",
        "\n",
        "print(dfx)  \n",
        "#print(dfx.to_csv(f\"/content/drive/My Drive/reports/ATRREP.csv\"))\n",
        "\n"
      ],
      "execution_count": null,
      "outputs": [
        {
          "output_type": "stream",
          "text": [
            "NIFTY\n",
            "BANKNIFTY\n",
            "             STOCK CANDLE PERIOD  ... LOSSTRADES TOTALTRADES       PNL\n",
            "0      NIFTY-I.NFO     10      4  ...         12          24   2567.15\n",
            "1  BANKNIFTY-I.NFO     15      3  ...          7          17  12946.60\n",
            "\n",
            "[2 rows x 10 columns]\n"
          ],
          "name": "stdout"
        }
      ]
    },
    {
      "cell_type": "code",
      "metadata": {
        "colab": {
          "base_uri": "https://localhost:8080/",
          "height": 111
        },
        "id": "2vFPOtU0zZbQ",
        "outputId": "dbfa4c80-dd68-4e69-fe19-70c373ab04d8"
      },
      "source": [
        "dfx"
      ],
      "execution_count": null,
      "outputs": [
        {
          "output_type": "execute_result",
          "data": {
            "text/html": [
              "<div>\n",
              "<style scoped>\n",
              "    .dataframe tbody tr th:only-of-type {\n",
              "        vertical-align: middle;\n",
              "    }\n",
              "\n",
              "    .dataframe tbody tr th {\n",
              "        vertical-align: top;\n",
              "    }\n",
              "\n",
              "    .dataframe thead th {\n",
              "        text-align: right;\n",
              "    }\n",
              "</style>\n",
              "<table border=\"1\" class=\"dataframe\">\n",
              "  <thead>\n",
              "    <tr style=\"text-align: right;\">\n",
              "      <th></th>\n",
              "      <th>STOCK</th>\n",
              "      <th>CANDLE</th>\n",
              "      <th>PERIOD</th>\n",
              "      <th>mult</th>\n",
              "      <th>BUYTARGETACHIEVED</th>\n",
              "      <th>SELLTARGETACHIEVED</th>\n",
              "      <th>PROFITABLETRADES</th>\n",
              "      <th>LOSSTRADES</th>\n",
              "      <th>TOTALTRADES</th>\n",
              "      <th>PNL</th>\n",
              "    </tr>\n",
              "  </thead>\n",
              "  <tbody>\n",
              "    <tr>\n",
              "      <th>0</th>\n",
              "      <td>NIFTY-I.NFO</td>\n",
              "      <td>10</td>\n",
              "      <td>4</td>\n",
              "      <td>2</td>\n",
              "      <td>7</td>\n",
              "      <td>5</td>\n",
              "      <td>12</td>\n",
              "      <td>12</td>\n",
              "      <td>24</td>\n",
              "      <td>2567.15</td>\n",
              "    </tr>\n",
              "    <tr>\n",
              "      <th>1</th>\n",
              "      <td>BANKNIFTY-I.NFO</td>\n",
              "      <td>15</td>\n",
              "      <td>3</td>\n",
              "      <td>2</td>\n",
              "      <td>6</td>\n",
              "      <td>4</td>\n",
              "      <td>10</td>\n",
              "      <td>7</td>\n",
              "      <td>17</td>\n",
              "      <td>12946.60</td>\n",
              "    </tr>\n",
              "  </tbody>\n",
              "</table>\n",
              "</div>"
            ],
            "text/plain": [
              "             STOCK CANDLE PERIOD  ... LOSSTRADES TOTALTRADES       PNL\n",
              "0      NIFTY-I.NFO     10      4  ...         12          24   2567.15\n",
              "1  BANKNIFTY-I.NFO     15      3  ...          7          17  12946.60\n",
              "\n",
              "[2 rows x 10 columns]"
            ]
          },
          "metadata": {
            "tags": []
          },
          "execution_count": 8
        }
      ]
    }
  ]
}