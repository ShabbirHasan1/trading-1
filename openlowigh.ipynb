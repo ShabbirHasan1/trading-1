{
  "nbformat": 4,
  "nbformat_minor": 0,
  "metadata": {
    "colab": {
      "name": "openlowigh.ipynb",
      "provenance": [],
      "collapsed_sections": []
    },
    "kernelspec": {
      "name": "python3",
      "display_name": "Python 3"
    }
  },
  "cells": [
    {
      "cell_type": "code",
      "metadata": {
        "colab": {
          "base_uri": "https://localhost:8080/"
        },
        "id": "EUqe-UAwqapC",
        "outputId": "24c9d6ed-1228-4f38-ed6e-b64a5483afe8"
      },
      "source": [
        "from google.colab import drive\n",
        "import datetime\n",
        "import pandas as pd\n",
        "pd.options.mode.chained_assignment = None  # default='warn'\n",
        "drive.mount('/content/drive')"
      ],
      "execution_count": null,
      "outputs": [
        {
          "output_type": "stream",
          "text": [
            "Mounted at /content/drive\n"
          ],
          "name": "stdout"
        }
      ]
    },
    {
      "cell_type": "code",
      "metadata": {
        "id": "IWTv62b4KZci"
      },
      "source": [
        "df = pd.read_csv(f\"/content/drive/My Drive/reports/BANKNIFTY [NSE FAO] 25MAR2021(I-5m).csv\")"
      ],
      "execution_count": null,
      "outputs": []
    },
    {
      "cell_type": "code",
      "metadata": {
        "colab": {
          "base_uri": "https://localhost:8080/",
          "height": 419
        },
        "id": "kPNKAJRVKPif",
        "outputId": "b7bfe3a8-fbb6-4605-bbb9-27adf75747b9"
      },
      "source": [
        "df"
      ],
      "execution_count": null,
      "outputs": [
        {
          "output_type": "execute_result",
          "data": {
            "text/html": [
              "<div>\n",
              "<style scoped>\n",
              "    .dataframe tbody tr th:only-of-type {\n",
              "        vertical-align: middle;\n",
              "    }\n",
              "\n",
              "    .dataframe tbody tr th {\n",
              "        vertical-align: top;\n",
              "    }\n",
              "\n",
              "    .dataframe thead th {\n",
              "        text-align: right;\n",
              "    }\n",
              "</style>\n",
              "<table border=\"1\" class=\"dataframe\">\n",
              "  <thead>\n",
              "    <tr style=\"text-align: right;\">\n",
              "      <th></th>\n",
              "      <th>Datetime</th>\n",
              "      <th>Open</th>\n",
              "      <th>High</th>\n",
              "      <th>Low</th>\n",
              "      <th>Close</th>\n",
              "      <th>Volume</th>\n",
              "      <th>Value</th>\n",
              "      <th>OI</th>\n",
              "      <th>DQ</th>\n",
              "      <th>Unnamed: 9</th>\n",
              "    </tr>\n",
              "  </thead>\n",
              "  <tbody>\n",
              "    <tr>\n",
              "      <th>0</th>\n",
              "      <td>01/01/2021 09:15:00 AM</td>\n",
              "      <td>31372.10</td>\n",
              "      <td>31477.55</td>\n",
              "      <td>31372.10</td>\n",
              "      <td>31450.00</td>\n",
              "      <td>500.0</td>\n",
              "      <td>1.573199e+07</td>\n",
              "      <td>225.0</td>\n",
              "      <td>NaN</td>\n",
              "      <td>NaN</td>\n",
              "    </tr>\n",
              "    <tr>\n",
              "      <th>1</th>\n",
              "      <td>01/01/2021 09:20:00 AM</td>\n",
              "      <td>31450.00</td>\n",
              "      <td>31450.00</td>\n",
              "      <td>31450.00</td>\n",
              "      <td>31450.00</td>\n",
              "      <td>25.0</td>\n",
              "      <td>7.862500e+05</td>\n",
              "      <td>500.0</td>\n",
              "      <td>NaN</td>\n",
              "      <td>NaN</td>\n",
              "    </tr>\n",
              "    <tr>\n",
              "      <th>2</th>\n",
              "      <td>01/01/2021 09:25:00 AM</td>\n",
              "      <td>31450.00</td>\n",
              "      <td>31459.45</td>\n",
              "      <td>31440.00</td>\n",
              "      <td>31459.45</td>\n",
              "      <td>125.0</td>\n",
              "      <td>3.930792e+06</td>\n",
              "      <td>600.0</td>\n",
              "      <td>NaN</td>\n",
              "      <td>NaN</td>\n",
              "    </tr>\n",
              "    <tr>\n",
              "      <th>3</th>\n",
              "      <td>01/01/2021 09:30:00 AM</td>\n",
              "      <td>31479.95</td>\n",
              "      <td>31505.35</td>\n",
              "      <td>31479.95</td>\n",
              "      <td>31501.35</td>\n",
              "      <td>150.0</td>\n",
              "      <td>4.723415e+06</td>\n",
              "      <td>650.0</td>\n",
              "      <td>NaN</td>\n",
              "      <td>NaN</td>\n",
              "    </tr>\n",
              "    <tr>\n",
              "      <th>4</th>\n",
              "      <td>01/01/2021 09:35:00 AM</td>\n",
              "      <td>31485.00</td>\n",
              "      <td>31485.00</td>\n",
              "      <td>31475.00</td>\n",
              "      <td>31485.00</td>\n",
              "      <td>100.0</td>\n",
              "      <td>3.148000e+06</td>\n",
              "      <td>725.0</td>\n",
              "      <td>NaN</td>\n",
              "      <td>NaN</td>\n",
              "    </tr>\n",
              "    <tr>\n",
              "      <th>...</th>\n",
              "      <td>...</td>\n",
              "      <td>...</td>\n",
              "      <td>...</td>\n",
              "      <td>...</td>\n",
              "      <td>...</td>\n",
              "      <td>...</td>\n",
              "      <td>...</td>\n",
              "      <td>...</td>\n",
              "      <td>...</td>\n",
              "      <td>...</td>\n",
              "    </tr>\n",
              "    <tr>\n",
              "      <th>3142</th>\n",
              "      <td>12/03/2021 11:45:00 AM</td>\n",
              "      <td>36312.70</td>\n",
              "      <td>36330.00</td>\n",
              "      <td>36291.10</td>\n",
              "      <td>36325.00</td>\n",
              "      <td>14675.0</td>\n",
              "      <td>5.329186e+08</td>\n",
              "      <td>1506150.0</td>\n",
              "      <td>NaN</td>\n",
              "      <td>NaN</td>\n",
              "    </tr>\n",
              "    <tr>\n",
              "      <th>3143</th>\n",
              "      <td>12/03/2021 11:50:00 AM</td>\n",
              "      <td>36325.00</td>\n",
              "      <td>36338.90</td>\n",
              "      <td>36295.00</td>\n",
              "      <td>36303.90</td>\n",
              "      <td>20975.0</td>\n",
              "      <td>7.618417e+08</td>\n",
              "      <td>1508975.0</td>\n",
              "      <td>NaN</td>\n",
              "      <td>NaN</td>\n",
              "    </tr>\n",
              "    <tr>\n",
              "      <th>3144</th>\n",
              "      <td>12/03/2021 11:55:00 AM</td>\n",
              "      <td>36305.10</td>\n",
              "      <td>36313.45</td>\n",
              "      <td>36282.65</td>\n",
              "      <td>36310.00</td>\n",
              "      <td>15975.0</td>\n",
              "      <td>5.798379e+08</td>\n",
              "      <td>1509750.0</td>\n",
              "      <td>NaN</td>\n",
              "      <td>NaN</td>\n",
              "    </tr>\n",
              "    <tr>\n",
              "      <th>3145</th>\n",
              "      <td>12/03/2021 12:00:00 PM</td>\n",
              "      <td>36310.00</td>\n",
              "      <td>36322.55</td>\n",
              "      <td>36300.00</td>\n",
              "      <td>36313.35</td>\n",
              "      <td>9750.0</td>\n",
              "      <td>3.540567e+08</td>\n",
              "      <td>1511675.0</td>\n",
              "      <td>NaN</td>\n",
              "      <td>NaN</td>\n",
              "    </tr>\n",
              "    <tr>\n",
              "      <th>3146</th>\n",
              "      <td>12/03/2021 12:05:00 PM</td>\n",
              "      <td>36309.60</td>\n",
              "      <td>36312.40</td>\n",
              "      <td>36304.45</td>\n",
              "      <td>36312.40</td>\n",
              "      <td>1050.0</td>\n",
              "      <td>3.812202e+07</td>\n",
              "      <td>1511675.0</td>\n",
              "      <td>NaN</td>\n",
              "      <td>NaN</td>\n",
              "    </tr>\n",
              "  </tbody>\n",
              "</table>\n",
              "<p>3147 rows × 10 columns</p>\n",
              "</div>"
            ],
            "text/plain": [
              "                    Datetime      Open      High  ...         OI  DQ  Unnamed: 9\n",
              "0     01/01/2021 09:15:00 AM  31372.10  31477.55  ...      225.0 NaN         NaN\n",
              "1     01/01/2021 09:20:00 AM  31450.00  31450.00  ...      500.0 NaN         NaN\n",
              "2     01/01/2021 09:25:00 AM  31450.00  31459.45  ...      600.0 NaN         NaN\n",
              "3     01/01/2021 09:30:00 AM  31479.95  31505.35  ...      650.0 NaN         NaN\n",
              "4     01/01/2021 09:35:00 AM  31485.00  31485.00  ...      725.0 NaN         NaN\n",
              "...                      ...       ...       ...  ...        ...  ..         ...\n",
              "3142  12/03/2021 11:45:00 AM  36312.70  36330.00  ...  1506150.0 NaN         NaN\n",
              "3143  12/03/2021 11:50:00 AM  36325.00  36338.90  ...  1508975.0 NaN         NaN\n",
              "3144  12/03/2021 11:55:00 AM  36305.10  36313.45  ...  1509750.0 NaN         NaN\n",
              "3145  12/03/2021 12:00:00 PM  36310.00  36322.55  ...  1511675.0 NaN         NaN\n",
              "3146  12/03/2021 12:05:00 PM  36309.60  36312.40  ...  1511675.0 NaN         NaN\n",
              "\n",
              "[3147 rows x 10 columns]"
            ]
          },
          "metadata": {
            "tags": []
          },
          "execution_count": 5
        }
      ]
    },
    {
      "cell_type": "code",
      "metadata": {
        "colab": {
          "base_uri": "https://localhost:8080/"
        },
        "id": "D5-cTwRBK-J3",
        "outputId": "ea0ca0c3-3c97-41e7-b3c5-85c9ebc0fb3a"
      },
      "source": [
        "!pip install ta"
      ],
      "execution_count": null,
      "outputs": [
        {
          "output_type": "stream",
          "text": [
            "Collecting ta\n",
            "  Downloading https://files.pythonhosted.org/packages/a9/22/a355ecf2d67da8150332d22ef65c3a1f79109528279bf5d40735b6f2bd72/ta-0.7.0.tar.gz\n",
            "Requirement already satisfied: numpy in /usr/local/lib/python3.7/dist-packages (from ta) (1.19.5)\n",
            "Requirement already satisfied: pandas in /usr/local/lib/python3.7/dist-packages (from ta) (1.1.5)\n",
            "Requirement already satisfied: pytz>=2017.2 in /usr/local/lib/python3.7/dist-packages (from pandas->ta) (2018.9)\n",
            "Requirement already satisfied: python-dateutil>=2.7.3 in /usr/local/lib/python3.7/dist-packages (from pandas->ta) (2.8.1)\n",
            "Requirement already satisfied: six>=1.5 in /usr/local/lib/python3.7/dist-packages (from python-dateutil>=2.7.3->pandas->ta) (1.15.0)\n",
            "Building wheels for collected packages: ta\n",
            "  Building wheel for ta (setup.py) ... \u001b[?25l\u001b[?25hdone\n",
            "  Created wheel for ta: filename=ta-0.7.0-cp37-none-any.whl size=28716 sha256=a234dfd87160de776c36b7f296836fe84f1d0993292ea4cc545893fbfc7cbf6a\n",
            "  Stored in directory: /root/.cache/pip/wheels/dd/88/30/de9553fb54a474eb7480b937cdbb140bdda613d29cf4da7994\n",
            "Successfully built ta\n",
            "Installing collected packages: ta\n",
            "Successfully installed ta-0.7.0\n"
          ],
          "name": "stdout"
        }
      ]
    },
    {
      "cell_type": "code",
      "metadata": {
        "id": "XJ8U6x7mLIUv"
      },
      "source": [
        "import ta as ta\n",
        "import numpy as np"
      ],
      "execution_count": null,
      "outputs": []
    },
    {
      "cell_type": "code",
      "metadata": {
        "colab": {
          "base_uri": "https://localhost:8080/"
        },
        "id": "-fc1CPRsnVng",
        "outputId": "e3b1fe2e-3236-4d56-f9c6-952e0a28afb2"
      },
      "source": [
        "lsit = !ls \"/content/drive/My Drive/reports\"\n",
        "print(lsit)"
      ],
      "execution_count": null,
      "outputs": [
        {
          "output_type": "stream",
          "text": [
            "[' 10yearalltimeframeniftyFINALLhalf.csv', ' 10yearexperimentml.csv', ' 10yearforforexperimentml.csv', ' 120AAABANKNIFTY-I.NFOFINAL10minexperimentDEC20195HL.csv', ' 120AAABANKNIFTY-I.NFOFINAL15minexperimentDEC20195HL.csv', ' 120AAABANKNIFTY-I.NFOFINAL5minexperimentDEC20195HL.csv', ' 120AAANIFTY-I.NFOFINAL10minexperimentDEC20195HL.csv', ' 120AAANIFTY-I.NFOFINAL15minexperimentDEC20195HL.csv', ' 120AAANIFTY-I.NFOFINAL5minexperimentDEC20195HL.csv', ' 15AAABANKNIFTY-I.NFOFINAL10minexperimentDEC20195HL.csv', ' 15AAABANKNIFTY-I.NFOFINAL15minexperimentDEC20195HL.csv', ' 15AAABANKNIFTY-I.NFOFINAL5minexperimentDEC20195HL.csv', ' 15AAANIFTY-I.NFOFINAL10minexperimentDEC20195HL.csv', ' 15AAANIFTY-I.NFOFINAL15minexperimentDEC20195HL.csv', ' 15AAANIFTY-I.NFOFINAL5minexperimentDEC20195HL.csv', ' 30AAAAARTIIND-I.NFOFINAL10minexperimentDEC20195HL.csv', ' 30AAAAARTIIND-I.NFOFINAL15minexperimentDEC20195HL.csv', ' 30AAAAARTIIND-I.NFOFINAL5minexperimentDEC20195HL.csv', ' 30AAAADANIENT-I.NFOFINAL10minexperimentDEC20195HL.csv', ' 30AAAADANIENT-I.NFOFINAL15minexperimentDEC20195HL.csv', ' 30AAAADANIENT-I.NFOFINAL5minexperimentDEC20195HL.csv', ' 30AAAADANIPORTS-I.NFOFINAL10minexperimentDEC20195HL.csv', ' 30AAAADANIPORTS-I.NFOFINAL15minexperimentDEC20195HL.csv', ' 30AAAADANIPORTS-I.NFOFINAL5minexperimentDEC20195HL.csv', ' 30AAABEL-I.NFOFINAL10minexperimentDEC20195HL.csv', ' 30AAABEL-I.NFOFINAL15minexperimentDEC20195HL.csv', ' 30AAABEL-I.NFOFINAL5minexperimentDEC20195HL.csv', ' 30AAABHARTIARTL-I.NFOFINAL10minexperimentDEC20195HL.csv', ' 30AAABHARTIARTL-I.NFOFINAL15minexperimentDEC20195HL.csv', ' 30AAABHARTIARTL-I.NFOFINAL5minexperimentDEC20195HL.csv', ' 30AAABHEL-I.NFOFINAL10minexperimentDEC20195HL.csv', ' 30AAABHEL-I.NFOFINAL15minexperimentDEC20195HL.csv', ' 30AAABHEL-I.NFOFINAL5minexperimentDEC20195HL.csv', ' 30AAABPCL-I.NFOFINAL10minexperimentDEC20195HL.csv', ' 30AAABPCL-I.NFOFINAL15minexperimentDEC20195HL.csv', ' 30AAABPCL-I.NFOFINAL5minexperimentDEC20195HL.csv', ' 30AAACUMMINSIND-I.NFOFINAL10minexperimentDEC20195HL.csv', ' 30AAACUMMINSIND-I.NFOFINAL15minexperimentDEC20195HL.csv', ' 30AAACUMMINSIND-I.NFOFINAL5minexperimentDEC20195HL.csv', ' 30AAAGMRINFRA-I.NFOFINAL10minexperimentDEC20195HL.csv', ' 30AAAGMRINFRA-I.NFOFINAL15minexperimentDEC20195HL.csv', ' 30AAAGMRINFRA-I.NFOFINAL5minexperimentDEC20195HL.csv', ' 30AAAGRASIM-I.NFOFINAL10minexperimentDEC20195HL.csv', ' 30AAAGRASIM-I.NFOFINAL15minexperimentDEC20195HL.csv', ' 30AAAGRASIM-I.NFOFINAL5minexperimentDEC20195HL.csv', \"'30AAAL&TFH-I.NFOFINAL10minexperimentDEC20195HL.csv'\", \"'30AAAL&TFH-I.NFOFINAL15minexperimentDEC20195HL.csv'\", \"'30AAAL&TFH-I.NFOFINAL5minexperimentDEC20195HL.csv'\", ' 30AAAMOTHERSUMI-I.NFOFINAL10minexperimentDEC20195HL.csv', ' 30AAAMOTHERSUMI-I.NFOFINAL15minexperimentDEC20195HL.csv', ' 30AAAMOTHERSUMI-I.NFOFINAL5minexperimentDEC20195HL.csv', ' 30AAANATIONALUM-I.NFOFINAL10minexperimentDEC20195HL.csv', ' 30AAANATIONALUM-I.NFOFINAL15minexperimentDEC20195HL.csv', ' 30AAANATIONALUM-I.NFOFINAL5minexperimentDEC20195HL.csv', ' 30AAANMDC-I.NFOFINAL10minexperimentDEC20195HL.csv', ' 30AAANMDC-I.NFOFINAL15minexperimentDEC20195HL.csv', ' 30AAANMDC-I.NFOFINAL5minexperimentDEC20195HL.csv', ' 30AAANTPC-I.NFOFINAL10minexperimentDEC20195HL.csv', ' 30AAANTPC-I.NFOFINAL15minexperimentDEC20195HL.csv', ' 30AAANTPC-I.NFOFINAL5minexperimentDEC20195HL.csv', ' 30AAASAIL-I.NFOFINAL10minexperimentDEC20195HL.csv', ' 30AAASAIL-I.NFOFINAL15minexperimentDEC20195HL.csv', ' 30AAASAIL-I.NFOFINAL5minexperimentDEC20195HL.csv', ' 30AAASIEMENS-I.NFOFINAL10minexperimentDEC20195HL.csv', ' 30AAASIEMENS-I.NFOFINAL15minexperimentDEC20195HL.csv', ' 30AAASIEMENS-I.NFOFINAL5minexperimentDEC20195HL.csv', ' 30AAATATACHEM-I.NFOFINAL10minexperimentDEC20195HL.csv', ' 30AAATATACHEM-I.NFOFINAL15minexperimentDEC20195HL.csv', ' 30AAATATACHEM-I.NFOFINAL5minexperimentDEC20195HL.csv', ' 30AAATATAMOTORS-I.NFOFINAL10minexperimentDEC20195HL.csv', ' 30AAATATAMOTORS-I.NFOFINAL15minexperimentDEC20195HL.csv', ' 30AAATATAMOTORS-I.NFOFINAL5minexperimentDEC20195HL.csv', ' 30AAATATAPOWER-I.NFOFINAL10minexperimentDEC20195HL.csv', ' 30AAATATAPOWER-I.NFOFINAL15minexperimentDEC20195HL.csv', ' 30AAATATAPOWER-I.NFOFINAL5minexperimentDEC20195HL.csv', ' 30AAATVSMOTOR-I.NFOFINAL10minexperimentDEC20195HL.csv', ' 30AAATVSMOTOR-I.NFOFINAL15minexperimentDEC20195HL.csv', ' 30AAATVSMOTOR-I.NFOFINAL5minexperimentDEC20195HL.csv', ' 30AAAVEDL-I.NFOFINAL10minexperimentDEC20195HL.csv', ' 30AAAVEDL-I.NFOFINAL15minexperimentDEC20195HL.csv', ' 30AAAVEDL-I.NFOFINAL5minexperimentDEC20195HL.csv', ' 5AAAASHOKLEY-I.NFOFINAL10minexperimentDEC20195HL.csv', ' 5AAAASHOKLEY-I.NFOFINAL15minexperimentDEC20195HL.csv', ' 5AAAASHOKLEY-I.NFOFINAL5minexperimentDEC20195HL.csv', ' 5AAAAUROPHARMA-I.NFOFINAL10minexperimentDEC20195HL.csv', ' 5AAAAUROPHARMA-I.NFOFINAL15minexperimentDEC20195HL.csv', ' 5AAAAUROPHARMA-I.NFOFINAL5minexperimentDEC20195HL.csv', ' 5AAAAXISBANK-I.NFOFINAL10minexperimentDEC20195HL.csv', ' 5AAAAXISBANK-I.NFOFINAL15minexperimentDEC20195HL.csv', ' 5AAAAXISBANK-I.NFOFINAL5minexperimentDEC20195HL.csv', ' 5AAABAJFINANCE-I.NFOFINAL10minexperimentDEC20195HL.csv', ' 5AAABAJFINANCE-I.NFOFINAL15minexperimentDEC20195HL.csv', ' 5AAABAJFINANCE-I.NFOFINAL5minexperimentDEC20195HL.csv', ' 5AAABANKBARODA-I.NFOFINAL10minexperimentDEC20195HL.csv', ' 5AAABANKBARODA-I.NFOFINAL15minexperimentDEC20195HL.csv', ' 5AAABANKBARODA-I.NFOFINAL5minexperimentDEC20195HL.csv', ' 5AAABANKNIFTY-I.NFOFINAL10minexperimentDEC20195HL.csv', ' 5AAABANKNIFTY-I.NFOFINAL15minexperimentDEC20195HL.csv', ' 5AAABANKNIFTY-I.NFOFINAL5minexperimentDEC20195HL.csv', ' 5AAABATAINDIA-I.NFOFINAL10minexperimentDEC20195HL.csv', ' 5AAABATAINDIA-I.NFOFINAL15minexperimentDEC20195HL.csv', ' 5AAABATAINDIA-I.NFOFINAL5minexperimentDEC20195HL.csv', ' 5AAABHARATFORG-I.NFOFINAL10minexperimentDEC20195HL.csv', ' 5AAABHARATFORG-I.NFOFINAL15minexperimentDEC20195HL.csv', ' 5AAABHARATFORG-I.NFOFINAL5minexperimentDEC20195HL.csv', ' 5AAABHARTIARTL-I.NFOFINAL10minexperimentDEC20195HL.csv', ' 5AAABHARTIARTL-I.NFOFINAL15minexperimentDEC20195HL.csv', ' 5AAABHARTIARTL-I.NFOFINAL5minexperimentDEC20195HL.csv', ' 5AAABIOCON-I.NFOFINAL10minexperimentDEC20195HL.csv', ' 5AAABIOCON-I.NFOFINAL15minexperimentDEC20195HL.csv', ' 5AAABIOCON-I.NFOFINAL5minexperimentDEC20195HL.csv', ' 5AAABPCL-I.NFOFINAL10minexperimentDEC20195HL.csv', ' 5AAABPCL-I.NFOFINAL15minexperimentDEC20195HL.csv', ' 5AAABPCL-I.NFOFINAL5minexperimentDEC20195HL.csv', ' 5AAACADILAHC-I.NFOFINAL10minexperimentDEC20195HL.csv', ' 5AAACADILAHC-I.NFOFINAL15minexperimentDEC20195HL.csv', ' 5AAACADILAHC-I.NFOFINAL5minexperimentDEC20195HL.csv', ' 5AAACIPLA-I.NFOFINAL10minexperimentDEC20195HL.csv', ' 5AAACIPLA-I.NFOFINAL15minexperimentDEC20195HL.csv', ' 5AAACIPLA-I.NFOFINAL5minexperimentDEC20195HL.csv', ' 5AAADIVISLAB-I.NFOFINAL10minexperimentDEC20195HL.csv', ' 5AAADIVISLAB-I.NFOFINAL15minexperimentDEC20195HL.csv', ' 5AAADIVISLAB-I.NFOFINAL5minexperimentDEC20195HL.csv', ' 5AAADRREDDY-I.NFOFINAL10minexperimentDEC20195HL.csv', ' 5AAADRREDDY-I.NFOFINAL15minexperimentDEC20195HL.csv', ' 5AAADRREDDY-I.NFOFINAL5minexperimentDEC20195HL.csv', ' 5AAAESCORTS-I.NFOFINAL10minexperimentDEC20195HL.csv', ' 5AAAESCORTS-I.NFOFINAL15minexperimentDEC20195HL.csv', ' 5AAAESCORTS-I.NFOFINAL5minexperimentDEC20195HL.csv', ' 5AAAGLENMARK-I.NFOFINAL10minexperimentDEC20195HL.csv', ' 5AAAGLENMARK-I.NFOFINAL15minexperimentDEC20195HL.csv', ' 5AAAGLENMARK-I.NFOFINAL5minexperimentDEC20195HL.csv', ' 5AAAHCLTECH-I.NFOFINAL10minexperimentDEC20195HL.csv', ' 5AAAHCLTECH-I.NFOFINAL15minexperimentDEC20195HL.csv', ' 5AAAHCLTECH-I.NFOFINAL5minexperimentDEC20195HL.csv', ' 5AAAHDFCBANK-I.NFOFINAL10minexperimentDEC20195HL.csv', ' 5AAAHDFCBANK-I.NFOFINAL15minexperimentDEC20195HL.csv', ' 5AAAHDFCBANK-I.NFOFINAL5minexperimentDEC20195HL.csv', ' 5AAAHDFC-I.NFOFINAL10minexperimentDEC20195HL.csv', ' 5AAAHDFC-I.NFOFINAL15minexperimentDEC20195HL.csv', ' 5AAAHDFC-I.NFOFINAL5minexperimentDEC20195HL.csv', ' 5AAAHINDALCO-I.NFOFINAL10minexperimentDEC20195HL.csv', ' 5AAAHINDALCO-I.NFOFINAL15minexperimentDEC20195HL.csv', ' 5AAAHINDALCO-I.NFOFINAL5minexperimentDEC20195HL.csv', ' 5AAAICICIBANK-I.NFOFINAL10minexperimentDEC20195HL.csv', ' 5AAAICICIBANK-I.NFOFINAL15minexperimentDEC20195HL.csv', ' 5AAAICICIBANK-I.NFOFINAL5minexperimentDEC20195HL.csv', ' 5AAAINFY-I.NFOFINAL10minexperimentDEC20195HL.csv', ' 5AAAINFY-I.NFOFINAL15minexperimentDEC20195HL.csv', ' 5AAAINFY-I.NFOFINAL5minexperimentDEC20195HL.csv', ' 5AAAJUBLFOOD-I.NFOFINAL10minexperimentDEC20195HL.csv', ' 5AAAJUBLFOOD-I.NFOFINAL15minexperimentDEC20195HL.csv', ' 5AAAJUBLFOOD-I.NFOFINAL5minexperimentDEC20195HL.csv', ' 5AAALT-I.NFOFINAL10minexperimentDEC20195HL.csv', ' 5AAALT-I.NFOFINAL15minexperimentDEC20195HL.csv', ' 5AAALT-I.NFOFINAL5minexperimentDEC20195HL.csv', ' 5AAALUPIN-I.NFOFINAL10minexperimentDEC20195HL.csv', ' 5AAALUPIN-I.NFOFINAL15minexperimentDEC20195HL.csv', ' 5AAALUPIN-I.NFOFINAL5minexperimentDEC20195HL.csv', ' 5AAAMARUTI-I.NFOFINAL10minexperimentDEC20195HL.csv', ' 5AAAMARUTI-I.NFOFINAL15minexperimentDEC20195HL.csv', ' 5AAAMARUTI-I.NFOFINAL5minexperimentDEC20195HL.csv', ' 5AAAMGL-I.NFOFINAL10minexperimentDEC20195HL.csv', ' 5AAAMGL-I.NFOFINAL15minexperimentDEC20195HL.csv', ' 5AAAMGL-I.NFOFINAL5minexperimentDEC20195HL.csv', ' 5AAAMINDTREE-I.NFOFINAL10minexperimentDEC20195HL.csv', ' 5AAAMINDTREE-I.NFOFINAL15minexperimentDEC20195HL.csv', ' 5AAAMINDTREE-I.NFOFINAL5minexperimentDEC20195HL.csv', ' 5AAANIFTY-I.NFOFINAL10minexperimentDEC20195HL.csv', ' 5AAANIFTY-I.NFOFINAL15minexperimentDEC20195HL.csv', ' 5AAANIFTY-I.NFOFINAL5minexperimentDEC20195HL.csv', ' 5AAARELIANCE-I.NFOFINAL10minexperimentDEC20195HL.csv', ' 5AAARELIANCE-I.NFOFINAL15minexperimentDEC20195HL.csv', ' 5AAARELIANCE-I.NFOFINAL5minexperimentDEC20195HL.csv', ' 5AAASBIN-I.NFOFINAL10minexperimentDEC20195HL.csv', ' 5AAASBIN-I.NFOFINAL15minexperimentDEC20195HL.csv', ' 5AAASBIN-I.NFOFINAL5minexperimentDEC20195HL.csv', ' 5AAASUNPHARMA-I.NFOFINAL10minexperimentDEC20195HL.csv', ' 5AAASUNPHARMA-I.NFOFINAL15minexperimentDEC20195HL.csv', ' 5AAASUNPHARMA-I.NFOFINAL5minexperimentDEC20195HL.csv', ' 5AAASUNTV-I.NFOFINAL10minexperimentDEC20195HL.csv', ' 5AAASUNTV-I.NFOFINAL15minexperimentDEC20195HL.csv', ' 5AAASUNTV-I.NFOFINAL5minexperimentDEC20195HL.csv', ' 5AAATATAMOTORS-I.NFOFINAL10minexperimentDEC20195HL.csv', ' 5AAATATAMOTORS-I.NFOFINAL15minexperimentDEC20195HL.csv', ' 5AAATATAMOTORS-I.NFOFINAL5minexperimentDEC20195HL.csv', ' 5AAATATASTEEL-I.NFOFINAL10minexperimentDEC20195HL.csv', ' 5AAATATASTEEL-I.NFOFINAL15minexperimentDEC20195HL.csv', ' 5AAATATASTEEL-I.NFOFINAL5minexperimentDEC20195HL.csv', ' 5AAATVSMOTOR-I.NFOFINAL10minexperimentDEC20195HL.csv', ' 5AAATVSMOTOR-I.NFOFINAL15minexperimentDEC20195HL.csv', ' 5AAATVSMOTOR-I.NFOFINAL5minexperimentDEC20195HL.csv', ' 60AAABANKNIFTY-I.NFOFINAL10minexperimentDEC20195HL.csv', ' 60AAABANKNIFTY-I.NFOFINAL15minexperimentDEC20195HL.csv', ' 60AAABANKNIFTY-I.NFOFINAL5minexperimentDEC20195HL.csv', ' 60AAANIFTY-I.NFOFINAL10minexperimentDEC20195HL.csv', ' 60AAANIFTY-I.NFOFINAL15minexperimentDEC20195HL.csv', ' 60AAANIFTY-I.NFOFINAL5minexperimentDEC20195HL.csv', ' 60AAANIFTY-I.NFOFINAL5minexperimentDEC20195HL.gsheet', ' 90AAABANKNIFTY-I.NFOFINAL10minexperimentDEC20195HL.csv', ' 90AAABANKNIFTY-I.NFOFINAL15minexperimentDEC20195HL.csv', ' 90AAABANKNIFTY-I.NFOFINAL5minexperimentDEC20195HL.csv', ' 90AAANIFTY-I.NFOFINAL10minexperimentDEC20195HL.csv', ' 90AAANIFTY-I.NFOFINAL15minexperimentDEC20195HL.csv', ' 90AAANIFTY-I.NFOFINAL5minexperimentDEC20195HL.csv', ' AAAASHOKLEY-I.NFOFINAL10minexperimentDEC20195HL.csv', ' AAAASHOKLEY-I.NFOFINAL15minexperimentDEC20195HL.csv', ' AAAASHOKLEY-I.NFOFINAL5minexperimentDEC20195HL.csv', ' AAAAUROPHARMA-I.NFOFINAL10minexperimentDEC20195HL.csv', ' AAAAUROPHARMA-I.NFOFINAL15minexperimentDEC20195HL.csv', ' AAAAUROPHARMA-I.NFOFINAL5minexperimentDEC20195HL.csv', ' AAAAXISBANK-I.NFOFINAL10minexperimentDEC20195HL.csv', ' AAAAXISBANK-I.NFOFINAL15minexperimentDEC20195HL.csv', ' AAAAXISBANK-I.NFOFINAL5minexperimentDEC20195HL.csv', ' AAABAJFINANCE-I.NFOFINAL10minexperimentDEC20195HL.csv', ' AAABAJFINANCE-I.NFOFINAL15minexperimentDEC20195HL.csv', ' AAABAJFINANCE-I.NFOFINAL5minexperimentDEC20195HL.csv', ' AAABANKBARODA-I.NFOFINAL10minexperimentDEC20195HL.csv', ' AAABANKBARODA-I.NFOFINAL15minexperimentDEC20195HL.csv', ' AAABANKBARODA-I.NFOFINAL5minexperimentDEC20195HL.csv', ' AAABANKNIFTY-I.NFOFINAL10minexperimentDEC20195HL.csv', ' AAABANKNIFTY-I.NFOFINAL15minexperimentDEC20195HL.csv', ' AAABANKNIFTY-I.NFOFINAL5minexperimentDEC20195HL.csv', ' AAABATAINDIA-I.NFOFINAL10minexperimentDEC20195HL.csv', ' AAABATAINDIA-I.NFOFINAL15minexperimentDEC20195HL.csv', ' AAABATAINDIA-I.NFOFINAL5minexperimentDEC20195HL.csv', ' AAABHARATFORG-I.NFOFINAL10minexperimentDEC20195HL.csv', ' AAABHARATFORG-I.NFOFINAL15minexperimentDEC20195HL.csv', ' AAABHARATFORG-I.NFOFINAL5minexperimentDEC20195HL.csv', ' AAABHARTIARTL-I.NFOFINAL10minexperimentDEC20195HL.csv', ' AAABHARTIARTL-I.NFOFINAL15minexperimentDEC20195HL.csv', ' AAABHARTIARTL-I.NFOFINAL5minexperimentDEC20195HL.csv', ' AAABIOCON-I.NFOFINAL10minexperimentDEC20195HL.csv', ' AAABIOCON-I.NFOFINAL15minexperimentDEC20195HL.csv', ' AAABIOCON-I.NFOFINAL5minexperimentDEC20195HL.csv', ' AAABPCL-I.NFOFINAL10minexperimentDEC20195HL.csv', ' AAABPCL-I.NFOFINAL15minexperimentDEC20195HL.csv', ' AAABPCL-I.NFOFINAL5minexperimentDEC20195HL.csv', ' AAACADILAHC-I.NFOFINAL10minexperimentDEC20195HL.csv', ' AAACADILAHC-I.NFOFINAL15minexperimentDEC20195HL.csv', ' AAACADILAHC-I.NFOFINAL5minexperimentDEC20195HL.csv', ' AAACIPLA-I.NFOFINAL10minexperimentDEC20195HL.csv', ' AAACIPLA-I.NFOFINAL15minexperimentDEC20195HL.csv', ' AAACIPLA-I.NFOFINAL5minexperimentDEC20195HL.csv', ' AAADIVISLAB-I.NFOFINAL10minexperimentDEC20195HL.csv', ' AAADIVISLAB-I.NFOFINAL15minexperimentDEC20195HL.csv', ' AAADIVISLAB-I.NFOFINAL5minexperimentDEC20195HL.csv', ' AAADRREDDY-I.NFOFINAL10minexperimentDEC20195HL.csv', ' AAADRREDDY-I.NFOFINAL15minexperimentDEC20195HL.csv', ' AAADRREDDY-I.NFOFINAL5minexperimentDEC20195HL.csv', ' AAAESCORTS-I.NFOFINAL10minexperimentDEC20195HL.csv', ' AAAESCORTS-I.NFOFINAL15minexperimentDEC20195HL.csv', ' AAAESCORTS-I.NFOFINAL5minexperimentDEC20195HL.csv', ' AAAGLENMARK-I.NFOFINAL10minexperimentDEC20195HL.csv', ' AAAGLENMARK-I.NFOFINAL15minexperimentDEC20195HL.csv', ' AAAGLENMARK-I.NFOFINAL5minexperimentDEC20195HL.csv', ' AAAHCLTECH-I.NFOFINAL10minexperimentDEC20195HL.csv', ' AAAHCLTECH-I.NFOFINAL15minexperimentDEC20195HL.csv', ' AAAHCLTECH-I.NFOFINAL5minexperimentDEC20195HL.csv', ' AAAHDFCBANK-I.NFOFINAL10minexperimentDEC20195HL.csv', ' AAAHDFCBANK-I.NFOFINAL15minexperimentDEC20195HL.csv', ' AAAHDFCBANK-I.NFOFINAL5minexperimentDEC20195HL.csv', ' AAAHDFC-I.NFOFINAL10minexperimentDEC20195HL.csv', ' AAAHDFC-I.NFOFINAL15minexperimentDEC20195HL.csv', ' AAAHDFC-I.NFOFINAL5minexperimentDEC20195HL.csv', ' AAAHINDALCO-I.NFOFINAL10minexperimentDEC20195HL.csv', ' AAAHINDALCO-I.NFOFINAL15minexperimentDEC20195HL.csv', ' AAAHINDALCO-I.NFOFINAL5minexperimentDEC20195HL.csv', ' AAAICICIBANK-I.NFOFINAL10minexperimentDEC20195HL.csv', ' AAAICICIBANK-I.NFOFINAL15minexperimentDEC20195HL.csv', ' AAAICICIBANK-I.NFOFINAL5minexperimentDEC20195HL.csv', ' AAAINDUSINDBK-I.NFOFINAL10minexperimentDEC20195HL.csv', ' AAAINDUSINDBK-I.NFOFINAL15minexperimentDEC20195HL.csv', ' AAAINDUSINDBK-I.NFOFINAL5minexperimentDEC20195HL.csv', ' AAAINFY-I.NFOFINAL10minexperimentDEC20195HL.csv', ' AAAINFY-I.NFOFINAL15minexperimentDEC20195HL.csv', ' AAAINFY-I.NFOFINAL5minexperimentDEC20195HL.csv', ' AAAJUBLFOOD-I.NFOFINAL10minexperimentDEC20195HL.csv', ' AAAJUBLFOOD-I.NFOFINAL15minexperimentDEC20195HL.csv', ' AAAJUBLFOOD-I.NFOFINAL5minexperimentDEC20195HL.csv', ' AAALT-I.NFOFINAL10minexperimentDEC20195HL.csv', ' AAALT-I.NFOFINAL15minexperimentDEC20195HL.csv', ' AAALT-I.NFOFINAL5minexperimentDEC20195HL.csv', ' AAALUPIN-I.NFOFINAL10minexperimentDEC20195HL.csv', ' AAALUPIN-I.NFOFINAL15minexperimentDEC20195HL.csv', ' AAALUPIN-I.NFOFINAL5minexperimentDEC20195HL.csv', ' AAAMARUTI-I.NFOFINAL10minexperimentDEC20195HL.csv', ' AAAMARUTI-I.NFOFINAL15minexperimentDEC20195HL.csv', ' AAAMARUTI-I.NFOFINAL5minexperimentDEC20195HL.csv', ' AAAMGL-I.NFOFINAL10minexperimentDEC20195HL.csv', ' AAAMGL-I.NFOFINAL15minexperimentDEC20195HL.csv', ' AAAMGL-I.NFOFINAL5minexperimentDEC20195HL.csv', ' AAAMINDTREE-I.NFOFINAL10minexperimentDEC20195HL.csv', ' AAAMINDTREE-I.NFOFINAL15minexperimentDEC20195HL.csv', ' AAAMINDTREE-I.NFOFINAL5minexperimentDEC20195HL.csv', ' AAANIFTY-I.NFOFINAL10minexperimentDEC20195HL.csv', ' AAANIFTY-I.NFOFINAL15minexperimentDEC20195HL.csv', ' AAANIFTY-I.NFOFINAL5minexperimentDEC20195HL.csv', ' AAANTPC-I.NFOFINAL10minexperimentDEC20195HL.csv', ' AAANTPC-I.NFOFINAL15minexperimentDEC20195HL.csv', ' AAANTPC-I.NFOFINAL5minexperimentDEC20195HL.csv', ' AAARELIANCE-I.NFOFINAL10minexperimentDEC20195HL.csv', ' AAARELIANCE-I.NFOFINAL15minexperimentDEC20195HL.csv', ' AAARELIANCE-I.NFOFINAL5minexperimentDEC20195HL.csv', ' AAASBIN-I.NFOFINAL10minexperimentDEC20195HL.csv', ' AAASBIN-I.NFOFINAL15minexperimentDEC20195HL.csv', ' AAASBIN-I.NFOFINAL5minexperimentDEC20195HL.csv', ' AAASUNPHARMA-I.NFOFINAL10minexperimentDEC20195HL.csv', ' AAASUNPHARMA-I.NFOFINAL15minexperimentDEC20195HL.csv', ' AAASUNPHARMA-I.NFOFINAL5minexperimentDEC20195HL.csv', ' AAASUNTV-I.NFOFINAL10minexperimentDEC20195HL.csv', ' AAASUNTV-I.NFOFINAL15minexperimentDEC20195HL.csv', ' AAASUNTV-I.NFOFINAL5minexperimentDEC20195HL.csv', ' AAATATAMOTORS-I.NFOFINAL10minexperimentDEC20195HL.csv', ' AAATATAMOTORS-I.NFOFINAL15minexperimentDEC20195HL.csv', ' AAATATAMOTORS-I.NFOFINAL5minexperimentDEC20195HL.csv', ' AAATATASTEEL-I.NFOFINAL10minexperimentDEC20195HL.csv', ' AAATATASTEEL-I.NFOFINAL15minexperimentDEC20195HL.csv', ' AAATATASTEEL-I.NFOFINAL5minexperimentDEC20195HL.csv', ' alltimeframeADANIENT-I.NFOFINALLhalf.csv', ' alltimeframeADANIPORTS-I.NFOFINALLhalf.csv', ' alltimeframeASHOKLEY-I.NFOFINAL59Lhalf.csv', ' alltimeframeAUROPHARMA-I.NFOFINAL59Lhalf.csv', ' alltimeframeAXISBANK-I.NFOFINAL59Lhalf.csv', ' alltimeframeBAJFINANCE-I.NFOFINAL59Lhalf.csv', ' alltimeframeBANKBARODA-I.NFOFINAL59Lhalf.csv', ' alltimeframeBANKNIFTY-I.NFOFINAL59Lhalf.csv', ' alltimeframeBANKNIFTY-I.NFOFINALLhalf.csv', ' alltimeframeBATAINDIA-I.NFOFINAL59Lhalf.csv', ' alltimeframeBEL-I.NFOFINALLhalf.csv', ' alltimeframeBHARATFORG-I.NFOFINAL59Lhalf.csv', ' alltimeframeBHARTIARTL-I.NFOFINAL59Lhalf.csv', ' alltimeframeBHARTIARTL-I.NFOFINALLhalf.csv', ' alltimeframeBHEL-I.NFOFINALLhalf.csv', ' alltimeframeBIOCON-I.NFOFINAL59Lhalf.csv', ' alltimeframeBPCL-I.NFOFINAL59Lhalf.csv', ' alltimeframeBPCL-I.NFOFINALLhalf.csv', ' alltimeframeCADILAHC-I.NFOFINAL59Lhalf.csv', ' alltimeframeCIPLA-I.NFOFINAL59Lhalf.csv', ' alltimeframeCUMMINSIND-I.NFOFINALLhalf.csv', ' alltimeframeDIVISLAB-I.NFOFINAL59Lhalf.csv', ' alltimeframeDRREDDY-I.NFOFINAL59Lhalf.csv', ' alltimeframeESCORTS-I.NFOFINAL59Lhalf.csv', ' alltimeframeGLENMARK-I.NFOFINAL59Lhalf.csv', ' alltimeframeGMRINFRA-I.NFOFINALLhalf.csv', ' alltimeframeGRASIM-I.NFOFINALLhalf.csv', ' alltimeframeHCLTECH-I.NFOFINAL59Lhalf.csv', ' alltimeframeHDFCBANK-I.NFOFINAL59Lhalf.csv', ' alltimeframeHDFC-I.NFOFINAL59Lhalf.csv', ' alltimeframeHINDALCO-I.NFOFINAL59Lhalf.csv', ' alltimeframeICICIBANK-I.NFOFINAL59Lhalf.csv', ' alltimeframeINDUSINDBK-I.NFOFINAL59Lhalf.csv', ' alltimeframeINFY-I.NFOFINAL59Lhalf.csv', ' alltimeframeJUBLFOOD-I.NFOFINAL59Lhalf.csv', \"'alltimeframeL&TFH-I.NFOFINALLhalf.csv'\", ' alltimeframeLT-I.NFOFINAL59Lhalf.csv', ' alltimeframeLUPIN-I.NFOFINAL59Lhalf.csv', ' alltimeframeMARUTI-I.NFOFINAL59Lhalf.csv', ' alltimeframeMGL-I.NFOFINAL59Lhalf.csv', ' alltimeframeMINDTREE-I.NFOFINAL59Lhalf.csv', ' alltimeframeMOTHERSUMI-I.NFOFINALLhalf.csv', ' alltimeframeNATIONALUM-I.NFOFINALLhalf.csv', ' alltimeframeNIFTY-I.NFOFINAL59Lhalf.csv', ' alltimeframeNIFTY-I.NFOFINALLhalf.csv', ' alltimeframeNMDC-I.NFOFINALLhalf.csv', ' alltimeframeNTPC-I.NFOFINALLhalf.csv', ' alltimeframeRELIANCE-I.NFOFINAL59Lhalf.csv', ' alltimeframeSAIL-I.NFOFINALLhalf.csv', ' alltimeframeSBIN-I.NFOFINAL59Lhalf.csv', ' alltimeframeSIEMENS-I.NFOFINALLhalf.csv', ' alltimeframeSUNPHARMA-I.NFOFINAL59Lhalf.csv', ' alltimeframeSUNTV-I.NFOFINAL59Lhalf.csv', ' alltimeframeTATACHEM-I.NFOFINALLhalf.csv', ' alltimeframeTATAMOTORS-I.NFOFINAL59Lhalf.csv', ' alltimeframeTATAMOTORS-I.NFOFINALLhalf.csv', ' alltimeframeTATAPOWER-I.NFOFINALLhalf.csv', ' alltimeframeTATASTEEL-I.NFOFINAL59Lhalf.csv', ' alltimeframeVEDL-I.NFOFINALLhalf.csv', ' ASHOKLEY-I.NFOFINAL10min.csv', ' ASHOKLEY-I.NFOFINAL10minfromDEC2019.csv', ' ASHOKLEY-I.NFOFINAL10minfromMAY2020.csv', ' ASHOKLEY-I.NFOFINAL10minfromMAY.csv', ' ASHOKLEY-I.NFOFINAL15min.csv', ' ASHOKLEY-I.NFOFINAL15minfromDEC2019.csv', ' ASHOKLEY-I.NFOFINAL15minfromMAY2020.csv', ' ASHOKLEY-I.NFOFINAL15minfromMAY.csv', ' ASHOKLEY-I.NFOFINAL5min.csv', ' ASHOKLEY-I.NFOFINAL5minfromDEC2019.csv', ' ASHOKLEY-I.NFOFINAL5minfromMAY2020.csv', ' ASHOKLEY-I.NFOFINAL5minfromMAY.csv', ' ATR120AAABANKNIFTY-I.NFOFINAL10minexperimentDEC20195HL.csv', ' ATR120AAABANKNIFTY-I.NFOFINAL15minexperimentDEC20195HL.csv', ' ATR120AAABANKNIFTY-I.NFOFINAL5minexperimentDEC20195HL.csv', ' ATR120AAANIFTY-I.NFOFINAL10minexperimentDEC20195HL.csv', ' ATR120AAANIFTY-I.NFOFINAL15minexperimentDEC20195HL.csv', \"'ATR120AAANIFTY-I.NFOFINAL5minexperimentDEC20195HL (1).gsheet'\", ' ATR120AAANIFTY-I.NFOFINAL5minexperimentDEC20195HL.csv', ' ATR120AAANIFTY-I.NFOFINAL5minexperimentDEC20195HL.gsheet', ' ATR30AAABANKNIFTY-I.NFOFINAL10minexperimentDEC20195HL.csv', ' ATR30AAABANKNIFTY-I.NFOFINAL15minexperimentDEC20195HL.csv', ' ATR30AAABANKNIFTY-I.NFOFINAL5minexperimentDEC20195HL.csv', ' ATR30AAANIFTY-I.NFOFINAL10minexperimentDEC20195HL.csv', ' ATR30AAANIFTY-I.NFOFINAL15minexperimentDEC20195HL.csv', ' ATR30AAANIFTY-I.NFOFINAL5minexperimentDEC20195HL.csv', ' ATR60AAABANKNIFTY-I.NFOFINAL10minexperimentDEC20195HL.csv', ' ATR60AAABANKNIFTY-I.NFOFINAL15minexperimentDEC20195HL.csv', ' ATR60AAABANKNIFTY-I.NFOFINAL5minexperimentDEC20195HL.csv', ' ATR60AAANIFTY-I.NFOFINAL10minexperimentDEC20195HL.csv', ' ATR60AAANIFTY-I.NFOFINAL15minexperimentDEC20195HL.csv', ' ATR60AAANIFTY-I.NFOFINAL5minexperimentDEC20195HL.csv', ' ATR90AAABANKNIFTY-I.NFOFINAL10minexperimentDEC20195HL.csv', ' ATR90AAABANKNIFTY-I.NFOFINAL15minexperimentDEC20195HL.csv', ' ATR90AAABANKNIFTY-I.NFOFINAL5minexperimentDEC20195HL.csv', ' ATR90AAANIFTY-I.NFOFINAL10minexperimentDEC20195HL.csv', ' ATR90AAANIFTY-I.NFOFINAL15minexperimentDEC20195HL.csv', ' ATR90AAANIFTY-I.NFOFINAL5minexperimentDEC20195HL.csv', ' atrbanknifty30minute2period.csv', ' ATRREP.csv', ' ATRREPniftybanknifty.gsheet', ' ATRREPnifty.csv', ' ATRREPORT.csv', ' ATRREPORT.gsheet', ' AUROPHARMA-I.NFOFINAL10min.csv', ' AUROPHARMA-I.NFOFINAL10minfromDEC2019.csv', ' AUROPHARMA-I.NFOFINAL10minfromMAY2020.csv', ' AUROPHARMA-I.NFOFINAL10minfromMAY.csv', ' AUROPHARMA-I.NFOFINAL15min.csv', ' AUROPHARMA-I.NFOFINAL15minfromDEC2019.csv', ' AUROPHARMA-I.NFOFINAL15minfromMAY2020.csv', ' AUROPHARMA-I.NFOFINAL15minfromMAY.csv', ' AUROPHARMA-I.NFOFINAL5min.csv', ' AUROPHARMA-I.NFOFINAL5minfromDEC2019.csv', ' AUROPHARMA-I.NFOFINAL5minfromMAY2020.csv', ' AUROPHARMA-I.NFOFINAL5minfromMAY.csv', ' AXISBANK-I.NFOFINAL10min.csv', ' AXISBANK-I.NFOFINAL10minfromDEC2019.csv', ' AXISBANK-I.NFOFINAL10minfromMAY2020.csv', ' AXISBANK-I.NFOFINAL10minfromMAY.csv', ' AXISBANK-I.NFOFINAL15min.csv', ' AXISBANK-I.NFOFINAL15minfromDEC2019.csv', ' AXISBANK-I.NFOFINAL15minfromMAY2020.csv', ' AXISBANK-I.NFOFINAL15minfromMAY.csv', ' AXISBANK-I.NFOFINAL5min.csv', ' AXISBANK-I.NFOFINAL5minfromDEC2019.csv', ' AXISBANK-I.NFOFINAL5minfromMAY2020.csv', ' AXISBANK-I.NFOFINAL5minfromMAY.csv', ' BAJFINANCE-I.NFOFINAL10min.csv', ' BAJFINANCE-I.NFOFINAL10minfromDEC2019.csv', ' BAJFINANCE-I.NFOFINAL10minfromMAY2020.csv', ' BAJFINANCE-I.NFOFINAL10minfromMAY.csv', ' BAJFINANCE-I.NFOFINAL15min.csv', ' BAJFINANCE-I.NFOFINAL15minfromDEC2019.csv', ' BAJFINANCE-I.NFOFINAL15minfromMAY2020.csv', ' BAJFINANCE-I.NFOFINAL15minfromMAY.csv', ' BAJFINANCE-I.NFOFINAL5min.csv', ' BAJFINANCE-I.NFOFINAL5minfromDEC2019.csv', ' BAJFINANCE-I.NFOFINAL5minfromMAY2020.csv', ' BAJFINANCE-I.NFOFINAL5minfromMAY.csv', ' BANKBARODA-I.NFOFINAL10min.csv', ' BANKBARODA-I.NFOFINAL10minfromDEC2019.csv', ' BANKBARODA-I.NFOFINAL10minfromMAY2020.csv', ' BANKBARODA-I.NFOFINAL10minfromMAY.csv', ' BANKBARODA-I.NFOFINAL15min.csv', ' BANKBARODA-I.NFOFINAL15minfromDEC2019.csv', ' BANKBARODA-I.NFOFINAL15minfromMAY2020.csv', ' BANKBARODA-I.NFOFINAL15minfromMAY.csv', ' BANKBARODA-I.NFOFINAL5min.csv', ' BANKBARODA-I.NFOFINAL5minfromDEC2019.csv', ' BANKBARODA-I.NFOFINAL5minfromMAY2020.csv', ' BANKBARODA-I.NFOFINAL5minfromMAY.csv', ' BANKNIFTY-I.NFOFINAL10min1experimentDEC2019.csv', ' BANKNIFTY-I.NFOFINAL10min1hourfromDEC2019.csv', ' BANKNIFTY-I.NFOFINAL10minfromDEC2019.csv', ' BANKNIFTY-I.NFOFINAL10minfromMAY2020.csv', ' BANKNIFTY-I.NFOFINAL15min1experimentDEC2019.csv', ' BANKNIFTY-I.NFOFINAL15min1hourfromDEC2019.csv', ' BANKNIFTY-I.NFOFINAL15minfromDEC2019.csv', ' BANKNIFTY-I.NFOFINAL15minfromMAY2020.csv', ' BANKNIFTY-I.NFOFINAL30min1hourfromDEC2019.csv', ' BANKNIFTY-I.NFOFINAL5min1experimentDEC2019.csv', ' BANKNIFTY-I.NFOFINAL5min1hourfromDEC2019.csv', ' BANKNIFTY-I.NFOFINAL5minfromDEC2019.csv', ' BANKNIFTY-I.NFOFINAL5minfromMAY2020.csv', ' BATAINDIA-I.NFOFINAL10min.csv', ' BATAINDIA-I.NFOFINAL10minfromDEC2019.csv', ' BATAINDIA-I.NFOFINAL10minfromMAY2020.csv', ' BATAINDIA-I.NFOFINAL10minfromMAY.csv', ' BATAINDIA-I.NFOFINAL15min.csv', ' BATAINDIA-I.NFOFINAL15minfromDEC2019.csv', ' BATAINDIA-I.NFOFINAL15minfromMAY2020.csv', ' BATAINDIA-I.NFOFINAL15minfromMAY.csv', ' BATAINDIA-I.NFOFINAL5min.csv', ' BATAINDIA-I.NFOFINAL5minfromDEC2019.csv', ' BATAINDIA-I.NFOFINAL5minfromMAY2020.csv', ' BATAINDIA-I.NFOFINAL5minfromMAY.csv', ' BHARATFORG-I.NFOFINAL10min.csv', ' BHARATFORG-I.NFOFINAL10minfromDEC2019.csv', ' BHARATFORG-I.NFOFINAL10minfromMAY2020.csv', ' BHARATFORG-I.NFOFINAL10minfromMAY.csv', ' BHARATFORG-I.NFOFINAL15min.csv', ' BHARATFORG-I.NFOFINAL15minfromDEC2019.csv', ' BHARATFORG-I.NFOFINAL15minfromMAY2020.csv', ' BHARATFORG-I.NFOFINAL15minfromMAY.csv', ' BHARATFORG-I.NFOFINAL5min.csv', ' BHARATFORG-I.NFOFINAL5minfromDEC2019.csv', ' BHARATFORG-I.NFOFINAL5minfromMAY2020.csv', ' BHARATFORG-I.NFOFINAL5minfromMAY.csv', ' BHARTIARTL-I.NFOFINAL10min.csv', ' BHARTIARTL-I.NFOFINAL10minfromDEC2019.csv', ' BHARTIARTL-I.NFOFINAL10minfromMAY2020.csv', ' BHARTIARTL-I.NFOFINAL10minfromMAY.csv', ' BHARTIARTL-I.NFOFINAL15min.csv', ' BHARTIARTL-I.NFOFINAL15minfromDEC2019.csv', ' BHARTIARTL-I.NFOFINAL15minfromMAY2020.csv', ' BHARTIARTL-I.NFOFINAL15minfromMAY.csv', ' BHARTIARTL-I.NFOFINAL5min.csv', ' BHARTIARTL-I.NFOFINAL5minfromDEC2019.csv', ' BHARTIARTL-I.NFOFINAL5minfromMAY2020.csv', ' BHARTIARTL-I.NFOFINAL5minfromMAY.csv', ' BIOCON-I.NFOFINAL10min.csv', ' BIOCON-I.NFOFINAL10minfromDEC2019.csv', ' BIOCON-I.NFOFINAL10minfromMAY2020.csv', ' BIOCON-I.NFOFINAL10minfromMAY.csv', ' BIOCON-I.NFOFINAL15min.csv', ' BIOCON-I.NFOFINAL15minfromDEC2019.csv', ' BIOCON-I.NFOFINAL15minfromMAY2020.csv', ' BIOCON-I.NFOFINAL15minfromMAY.csv', ' BIOCON-I.NFOFINAL5min.csv', ' BIOCON-I.NFOFINAL5minfromDEC2019.csv', ' BIOCON-I.NFOFINAL5minfromMAY2020.csv', ' BIOCON-I.NFOFINAL5minfromMAY.csv', ' BPCL-I.NFOFINAL10min.csv', ' BPCL-I.NFOFINAL10minfromDEC2019.csv', ' BPCL-I.NFOFINAL10minfromMAY2020.csv', ' BPCL-I.NFOFINAL10minfromMAY.csv', ' BPCL-I.NFOFINAL15min.csv', ' BPCL-I.NFOFINAL15minfromDEC2019.csv', ' BPCL-I.NFOFINAL15minfromMAY2020.csv', ' BPCL-I.NFOFINAL15minfromMAY.csv', ' BPCL-I.NFOFINAL5min.csv', ' BPCL-I.NFOFINAL5minfromDEC2019.csv', ' BPCL-I.NFOFINAL5minfromMAY2020.csv', ' BPCL-I.NFOFINAL5minfromMAY.csv', ' CADILAHC-I.NFOFINAL10min.csv', ' CADILAHC-I.NFOFINAL10minfromDEC2019.csv', ' CADILAHC-I.NFOFINAL10minfromMAY2020.csv', ' CADILAHC-I.NFOFINAL10minfromMAY.csv', ' CADILAHC-I.NFOFINAL15min.csv', ' CADILAHC-I.NFOFINAL15minfromDEC2019.csv', ' CADILAHC-I.NFOFINAL15minfromMAY2020.csv', ' CADILAHC-I.NFOFINAL15minfromMAY.csv', ' CADILAHC-I.NFOFINAL5min.csv', ' CADILAHC-I.NFOFINAL5minfromDEC2019.csv', ' CADILAHC-I.NFOFINAL5minfromMAY2020.csv', ' CADILAHC-I.NFOFINAL5minfromMAY.csv', ' CIPLA-I.NFOFINAL10min.csv', ' CIPLA-I.NFOFINAL10minfromDEC2019.csv', ' CIPLA-I.NFOFINAL10minfromMAY2020.csv', ' CIPLA-I.NFOFINAL10minfromMAY.csv', ' CIPLA-I.NFOFINAL15min.csv', ' CIPLA-I.NFOFINAL15minfromDEC2019.csv', ' CIPLA-I.NFOFINAL15minfromMAY2020.csv', ' CIPLA-I.NFOFINAL15minfromMAY.csv', ' CIPLA-I.NFOFINAL5min.csv', ' CIPLA-I.NFOFINAL5minfromDEC2019.csv', ' CIPLA-I.NFOFINAL5minfromMAY2020.csv', ' CIPLA-I.NFOFINAL5minfromMAY.csv', ' completeBANKNIFTY-I.NFOL.csv', ' completeNIFTY-I.NFOL.csv', ' DIVISLAB-I.NFOFINAL10min.csv', ' DIVISLAB-I.NFOFINAL10minfromDEC2019.csv', ' DIVISLAB-I.NFOFINAL10minfromMAY2020.csv', ' DIVISLAB-I.NFOFINAL10minfromMAY.csv', ' DIVISLAB-I.NFOFINAL15min.csv', ' DIVISLAB-I.NFOFINAL15minfromDEC2019.csv', ' DIVISLAB-I.NFOFINAL15minfromMAY2020.csv', ' DIVISLAB-I.NFOFINAL15minfromMAY.csv', ' DIVISLAB-I.NFOFINAL5min.csv', ' DIVISLAB-I.NFOFINAL5minfromDEC2019.csv', ' DIVISLAB-I.NFOFINAL5minfromMAY2020.csv', ' DIVISLAB-I.NFOFINAL5minfromMAY.csv', ' DRREDDY-I.NFOFINAL10min.csv', ' DRREDDY-I.NFOFINAL10minfromDEC2019.csv', ' DRREDDY-I.NFOFINAL10minfromMAY2020.csv', ' DRREDDY-I.NFOFINAL10minfromMAY.csv', ' DRREDDY-I.NFOFINAL15min.csv', ' DRREDDY-I.NFOFINAL15minfromDEC2019.csv', ' DRREDDY-I.NFOFINAL15minfromMAY2020.csv', ' DRREDDY-I.NFOFINAL15minfromMAY.csv', ' DRREDDY-I.NFOFINAL5min.csv', ' DRREDDY-I.NFOFINAL5minfromDEC2019.csv', ' DRREDDY-I.NFOFINAL5minfromMAY2020.csv', ' DRREDDY-I.NFOFINAL5minfromMAY.csv', ' ESCORTS-I.NFOFINAL10min.csv', ' ESCORTS-I.NFOFINAL10minfromDEC2019.csv', ' ESCORTS-I.NFOFINAL10minfromMAY2020.csv', ' ESCORTS-I.NFOFINAL10minfromMAY.csv', ' ESCORTS-I.NFOFINAL15min.csv', ' ESCORTS-I.NFOFINAL15minfromDEC2019.csv', ' ESCORTS-I.NFOFINAL15minfromMAY2020.csv', ' ESCORTS-I.NFOFINAL15minfromMAY.csv', ' ESCORTS-I.NFOFINAL5min.csv', ' ESCORTS-I.NFOFINAL5minfromDEC2019.csv', ' ESCORTS-I.NFOFINAL5minfromMAY2020.csv', ' ESCORTS-I.NFOFINAL5minfromMAY.csv', ' experiment30AAAASHOKLEY-I.NFOFINAL10minexperimentDEC20195HL.csv', ' experiment30AAAASHOKLEY-I.NFOFINAL15minexperimentDEC20195HL.csv', ' experiment30AAAASHOKLEY-I.NFOFINAL5minexperimentDEC20195HL.csv', ' experiment30AAAAUROPHARMA-I.NFOFINAL10minexperimentDEC20195HL.csv', ' experiment30AAAAUROPHARMA-I.NFOFINAL15minexperimentDEC20195HL.csv', ' experiment30AAAAUROPHARMA-I.NFOFINAL5minexperimentDEC20195HL.csv', ' experiment30AAAAXISBANK-I.NFOFINAL10minexperimentDEC20195HL.csv', ' experiment30AAAAXISBANK-I.NFOFINAL15minexperimentDEC20195HL.csv', ' experiment30AAAAXISBANK-I.NFOFINAL5minexperimentDEC20195HL.csv', ' experiment30AAABAJFINANCE-I.NFOFINAL10minexperimentDEC20195HL.csv', ' experiment30AAABAJFINANCE-I.NFOFINAL15minexperimentDEC20195HL.csv', ' experiment30AAABAJFINANCE-I.NFOFINAL5minexperimentDEC20195HL.csv', ' experiment30AAABANKBARODA-I.NFOFINAL10minexperimentDEC20195HL.csv', ' experiment30AAABANKBARODA-I.NFOFINAL15minexperimentDEC20195HL.csv', ' experiment30AAABANKBARODA-I.NFOFINAL5minexperimentDEC20195HL.csv', ' experiment30AAABANKNIFTY-I.NFOFINAL10minexperimentDEC20195HL.csv', ' experiment30AAABANKNIFTY-I.NFOFINAL15minexperimentDEC20195HL.csv', ' experiment30AAABANKNIFTY-I.NFOFINAL5minexperimentDEC20195HL.csv', ' experiment30AAABATAINDIA-I.NFOFINAL10minexperimentDEC20195HL.csv', ' experiment30AAABATAINDIA-I.NFOFINAL15minexperimentDEC20195HL.csv', ' experiment30AAABATAINDIA-I.NFOFINAL5minexperimentDEC20195HL.csv', ' experiment30AAABHARATFORG-I.NFOFINAL10minexperimentDEC20195HL.csv', ' experiment30AAABHARATFORG-I.NFOFINAL15minexperimentDEC20195HL.csv', ' experiment30AAABHARATFORG-I.NFOFINAL5minexperimentDEC20195HL.csv', ' experiment30AAABHARTIARTL-I.NFOFINAL10minexperimentDEC20195HL.csv', ' experiment30AAABHARTIARTL-I.NFOFINAL15minexperimentDEC20195HL.csv', ' experiment30AAABHARTIARTL-I.NFOFINAL5minexperimentDEC20195HL.csv', ' experiment30AAABIOCON-I.NFOFINAL10minexperimentDEC20195HL.csv', ' experiment30AAABIOCON-I.NFOFINAL15minexperimentDEC20195HL.csv', ' experiment30AAABIOCON-I.NFOFINAL5minexperimentDEC20195HL.csv', ' experiment30AAABPCL-I.NFOFINAL10minexperimentDEC20195HL.csv', ' experiment30AAABPCL-I.NFOFINAL15minexperimentDEC20195HL.csv', ' experiment30AAABPCL-I.NFOFINAL5minexperimentDEC20195HL.csv', ' experiment30AAACADILAHC-I.NFOFINAL10minexperimentDEC20195HL.csv', ' experiment30AAACADILAHC-I.NFOFINAL15minexperimentDEC20195HL.csv', ' experiment30AAACADILAHC-I.NFOFINAL5minexperimentDEC20195HL.csv', ' experiment30AAACIPLA-I.NFOFINAL10minexperimentDEC20195HL.csv', ' experiment30AAACIPLA-I.NFOFINAL15minexperimentDEC20195HL.csv', ' experiment30AAACIPLA-I.NFOFINAL5minexperimentDEC20195HL.csv', ' experiment30AAADIVISLAB-I.NFOFINAL10minexperimentDEC20195HL.csv', ' experiment30AAADIVISLAB-I.NFOFINAL15minexperimentDEC20195HL.csv', ' experiment30AAADIVISLAB-I.NFOFINAL5minexperimentDEC20195HL.csv', ' experiment30AAADRREDDY-I.NFOFINAL10minexperimentDEC20195HL.csv', ' experiment30AAADRREDDY-I.NFOFINAL15minexperimentDEC20195HL.csv', ' experiment30AAADRREDDY-I.NFOFINAL5minexperimentDEC20195HL.csv', ' experiment30AAAESCORTS-I.NFOFINAL10minexperimentDEC20195HL.csv', ' experiment30AAAESCORTS-I.NFOFINAL15minexperimentDEC20195HL.csv', ' experiment30AAAESCORTS-I.NFOFINAL5minexperimentDEC20195HL.csv', ' experiment30AAAGLENMARK-I.NFOFINAL10minexperimentDEC20195HL.csv', ' experiment30AAAGLENMARK-I.NFOFINAL15minexperimentDEC20195HL.csv', ' experiment30AAAGLENMARK-I.NFOFINAL5minexperimentDEC20195HL.csv', ' experiment30AAAHCLTECH-I.NFOFINAL10minexperimentDEC20195HL.csv', ' experiment30AAAHCLTECH-I.NFOFINAL15minexperimentDEC20195HL.csv', ' experiment30AAAHCLTECH-I.NFOFINAL5minexperimentDEC20195HL.csv', ' experiment30AAAHDFCBANK-I.NFOFINAL10minexperimentDEC20195HL.csv', ' experiment30AAAHDFCBANK-I.NFOFINAL15minexperimentDEC20195HL.csv', ' experiment30AAAHDFCBANK-I.NFOFINAL5minexperimentDEC20195HL.csv', ' experiment30AAAHDFC-I.NFOFINAL10minexperimentDEC20195HL.csv', ' experiment30AAAHDFC-I.NFOFINAL15minexperimentDEC20195HL.csv', ' experiment30AAAHDFC-I.NFOFINAL5minexperimentDEC20195HL.csv', ' experiment30AAAHINDALCO-I.NFOFINAL10minexperimentDEC20195HL.csv', ' experiment30AAAHINDALCO-I.NFOFINAL15minexperimentDEC20195HL.csv', ' experiment30AAAHINDALCO-I.NFOFINAL5minexperimentDEC20195HL.csv', ' experiment30AAAICICIBANK-I.NFOFINAL10minexperimentDEC20195HL.csv', ' experiment30AAAICICIBANK-I.NFOFINAL15minexperimentDEC20195HL.csv', ' experiment30AAAICICIBANK-I.NFOFINAL5minexperimentDEC20195HL.csv', ' experiment30AAAINFY-I.NFOFINAL10minexperimentDEC20195HL.csv', ' experiment30AAAINFY-I.NFOFINAL15minexperimentDEC20195HL.csv', ' experiment30AAAINFY-I.NFOFINAL5minexperimentDEC20195HL.csv', ' experiment30AAAJUBLFOOD-I.NFOFINAL10minexperimentDEC20195HL.csv', ' experiment30AAAJUBLFOOD-I.NFOFINAL15minexperimentDEC20195HL.csv', ' experiment30AAAJUBLFOOD-I.NFOFINAL5minexperimentDEC20195HL.csv', ' experiment30AAALT-I.NFOFINAL10minexperimentDEC20195HL.csv', ' experiment30AAALT-I.NFOFINAL15minexperimentDEC20195HL.csv', ' experiment30AAALT-I.NFOFINAL5minexperimentDEC20195HL.csv', ' experiment30AAALUPIN-I.NFOFINAL10minexperimentDEC20195HL.csv', ' experiment30AAALUPIN-I.NFOFINAL15minexperimentDEC20195HL.csv', ' experiment30AAALUPIN-I.NFOFINAL5minexperimentDEC20195HL.csv', ' experiment30AAAMARUTI-I.NFOFINAL10minexperimentDEC20195HL.csv', ' experiment30AAAMARUTI-I.NFOFINAL15minexperimentDEC20195HL.csv', ' experiment30AAAMARUTI-I.NFOFINAL5minexperimentDEC20195HL.csv', ' experiment30AAAMGL-I.NFOFINAL10minexperimentDEC20195HL.csv', ' experiment30AAAMGL-I.NFOFINAL15minexperimentDEC20195HL.csv', ' experiment30AAAMGL-I.NFOFINAL5minexperimentDEC20195HL.csv', ' experiment30AAAMINDTREE-I.NFOFINAL10minexperimentDEC20195HL.csv', ' experiment30AAAMINDTREE-I.NFOFINAL15minexperimentDEC20195HL.csv', ' experiment30AAAMINDTREE-I.NFOFINAL5minexperimentDEC20195HL.csv', ' experiment30AAANIFTY-I.NFOFINAL10minexperimentDEC20195HL.csv', ' experiment30AAANIFTY-I.NFOFINAL15minexperimentDEC20195HL.csv', \"'experiment30AAANIFTY-I.NFOFINAL5minexperimentDEC20195HL (1).gsheet'\", ' experiment30AAANIFTY-I.NFOFINAL5minexperimentDEC20195HL.csv', ' experiment30AAANIFTY-I.NFOFINAL5minexperimentDEC20195HL.gsheet', ' experiment30AAARELIANCE-I.NFOFINAL10minexperimentDEC20195HL.csv', ' experiment30AAARELIANCE-I.NFOFINAL15minexperimentDEC20195HL.csv', ' experiment30AAARELIANCE-I.NFOFINAL5minexperimentDEC20195HL.csv', ' experiment30AAASBIN-I.NFOFINAL10minexperimentDEC20195HL.csv', ' experiment30AAASBIN-I.NFOFINAL15minexperimentDEC20195HL.csv', ' experiment30AAASBIN-I.NFOFINAL5minexperimentDEC20195HL.csv', ' experiment30AAASUNPHARMA-I.NFOFINAL10minexperimentDEC20195HL.csv', ' experiment30AAASUNPHARMA-I.NFOFINAL15minexperimentDEC20195HL.csv', ' experiment30AAASUNPHARMA-I.NFOFINAL5minexperimentDEC20195HL.csv', ' experiment30AAASUNTV-I.NFOFINAL10minexperimentDEC20195HL.csv', ' experiment30AAASUNTV-I.NFOFINAL15minexperimentDEC20195HL.csv', ' experiment30AAASUNTV-I.NFOFINAL5minexperimentDEC20195HL.csv', ' experiment30AAATATAMOTORS-I.NFOFINAL10minexperimentDEC20195HL.csv', ' experiment30AAATATAMOTORS-I.NFOFINAL15minexperimentDEC20195HL.csv', ' experiment30AAATATAMOTORS-I.NFOFINAL5minexperimentDEC20195HL.csv', ' experiment30AAATATASTEEL-I.NFOFINAL10minexperimentDEC20195HL.csv', ' experiment30AAATATASTEEL-I.NFOFINAL15minexperimentDEC20195HL.csv', ' experiment30AAATATASTEEL-I.NFOFINAL5minexperimentDEC20195HL.csv', ' experimentml.csv', \"'final execution.py'\", ' finalformay.py', ' forml10yearNIFTYFINAL5minexperimentDEC20195HL.csv', ' forml1NIFTY-I.NFOFINAL5minexperimentDEC20195HL.csv', ' formlFINAL5minexperimentDEC20195HL.csv', ' formlFINALwithbreaking5minexperimentDEC20195HL.csv', ' GFDLNFO_FUTURE_02122019.csv', ' GLENMARK-I.NFOFINAL10min.csv', ' GLENMARK-I.NFOFINAL10minfromDEC2019.csv', ' GLENMARK-I.NFOFINAL10minfromMAY2020.csv', ' GLENMARK-I.NFOFINAL10minfromMAY.csv', ' GLENMARK-I.NFOFINAL15min.csv', ' GLENMARK-I.NFOFINAL15minfromDEC2019.csv', ' GLENMARK-I.NFOFINAL15minfromMAY2020.csv', ' GLENMARK-I.NFOFINAL15minfromMAY.csv', ' GLENMARK-I.NFOFINAL5min.csv', ' GLENMARK-I.NFOFINAL5minfromDEC2019.csv', ' GLENMARK-I.NFOFINAL5minfromMAY2020.csv', ' GLENMARK-I.NFOFINAL5minfromMAY.csv', ' HCLTECH-I.NFOFINAL10min.csv', ' HCLTECH-I.NFOFINAL10minfromDEC2019.csv', ' HCLTECH-I.NFOFINAL10minfromMAY2020.csv', ' HCLTECH-I.NFOFINAL10minfromMAY.csv', ' HCLTECH-I.NFOFINAL15min.csv', ' HCLTECH-I.NFOFINAL15minfromDEC2019.csv', ' HCLTECH-I.NFOFINAL15minfromMAY2020.csv', ' HCLTECH-I.NFOFINAL15minfromMAY.csv', ' HCLTECH-I.NFOFINAL5min.csv', ' HCLTECH-I.NFOFINAL5minfromDEC2019.csv', ' HCLTECH-I.NFOFINAL5minfromMAY2020.csv', ' HCLTECH-I.NFOFINAL5minfromMAY.csv', ' HDFCBANK-I.NFOFINAL10minfromDEC2019.csv', ' HDFCBANK-I.NFOFINAL10minfromMAY2020.csv', ' HDFCBANK-I.NFOFINAL15minfromDEC2019.csv', ' HDFCBANK-I.NFOFINAL15minfromMAY2020.csv', ' HDFCBANK-I.NFOFINAL5minfromDEC2019.csv', ' HDFCBANK-I.NFOFINAL5minfromMAY2020.csv', ' HDFC-I.NFOFINAL10minfromDEC2019.csv', ' HDFC-I.NFOFINAL10minfromMAY2020.csv', ' HDFC-I.NFOFINAL15minfromDEC2019.csv', ' HDFC-I.NFOFINAL15minfromMAY2020.csv', ' HDFC-I.NFOFINAL5minfromDEC2019.csv', ' HDFC-I.NFOFINAL5minfromMAY2020.csv', ' HINDALCO-I.NFOFINAL10min.csv', ' HINDALCO-I.NFOFINAL10minfromDEC2019.csv', ' HINDALCO-I.NFOFINAL10minfromMAY2020.csv', ' HINDALCO-I.NFOFINAL10minfromMAY.csv', ' HINDALCO-I.NFOFINAL15min.csv', ' HINDALCO-I.NFOFINAL15minfromDEC2019.csv', ' HINDALCO-I.NFOFINAL15minfromMAY2020.csv', ' HINDALCO-I.NFOFINAL15minfromMAY.csv', ' HINDALCO-I.NFOFINAL5min.csv', ' HINDALCO-I.NFOFINAL5minfromDEC2019.csv', ' HINDALCO-I.NFOFINAL5minfromMAY2020.csv', ' HINDALCO-I.NFOFINAL5minfromMAY.csv', ' HOURLYASHOKLEY-I.NFOFINAL59L.csv', ' HOURLYASHOKLEY-I.NFOFINAL59Lhalf.csv', ' HOURLYAUROPHARMA-I.NFOFINAL59L.csv', ' HOURLYAUROPHARMA-I.NFOFINAL59Lhalf.csv', ' HOURLYAXISBANK-I.NFOFINAL59L.csv', ' HOURLYAXISBANK-I.NFOFINAL59Lhalf.csv', ' HOURLYBAJFINANCE-I.NFOFINAL59L.csv', ' HOURLYBAJFINANCE-I.NFOFINAL59Lhalf.csv', ' HOURLYBANKBARODA-I.NFOFINAL59L.csv', ' HOURLYBANKBARODA-I.NFOFINAL59Lhalf.csv', \"'HOURLYBANKNIFTY-I (1).NFOFINAL59L.gsheet'\", ' HOURLYBANKNIFTY-I.NFOFINAL59L.csv', ' HOURLYBANKNIFTY-I.NFOFINAL59L.gsheet', ' HOURLYBANKNIFTY-I.NFOFINAL59Lhalf.csv', ' HOURLYBATAINDIA-I.NFOFINAL59L.csv', ' HOURLYBATAINDIA-I.NFOFINAL59Lhalf.csv', ' HOURLYBHARATFORG-I.NFOFINAL59L.csv', ' HOURLYBHARATFORG-I.NFOFINAL59Lhalf.csv', ' HOURLYBHARTIARTL-I.NFOFINAL59L.csv', ' HOURLYBHARTIARTL-I.NFOFINAL59Lhalf.csv', ' HOURLYBIOCON-I.NFOFINAL59L.csv', ' HOURLYBIOCON-I.NFOFINAL59Lhalf.csv', ' HOURLYBPCL-I.NFOFINAL59L.csv', ' HOURLYBPCL-I.NFOFINAL59Lhalf.csv', ' HOURLYCADILAHC-I.NFOFINAL59L.csv', ' HOURLYCADILAHC-I.NFOFINAL59Lhalf.csv', ' HOURLYCIPLA-I.NFOFINAL59L.csv', ' HOURLYCIPLA-I.NFOFINAL59Lhalf.csv', ' HOURLYDIVISLAB-I.NFOFINAL59L.csv', ' HOURLYDIVISLAB-I.NFOFINAL59Lhalf.csv', ' HOURLYDRREDDY-I.NFOFINAL59L.csv', ' HOURLYDRREDDY-I.NFOFINAL59Lhalf.csv', ' HOURLYESCORTS-I.NFOFINAL59L.csv', ' HOURLYESCORTS-I.NFOFINAL59Lhalf.csv', ' HOURLYGLENMARK-I.NFOFINAL59L.csv', ' HOURLYGLENMARK-I.NFOFINAL59Lhalf.csv', ' HOURLYHCLTECH-I.NFOFINAL59L.csv', ' HOURLYHCLTECH-I.NFOFINAL59Lhalf.csv', ' HOURLYHDFCBANK-I.NFOFINAL59L.csv', ' HOURLYHDFCBANK-I.NFOFINAL59Lhalf.csv', ' HOURLYHDFC-I.NFOFINAL59L.csv', ' HOURLYHDFC-I.NFOFINAL59Lhalf.csv', ' HOURLYHINDALCO-I.NFOFINAL59L.csv', ' HOURLYHINDALCO-I.NFOFINAL59Lhalf.csv', ' HOURLYICICIBANK-I.NFOFINAL59L.csv', ' HOURLYICICIBANK-I.NFOFINAL59Lhalf.csv', ' HOURLYINDUSINDBK-I.NFOFINAL59L.csv', ' HOURLYINDUSINDBK-I.NFOFINAL59Lhalf.csv', ' HOURLYINDUSINDBNK-I.NFOFINAL59L.csv', ' HOURLYINDUSINDBNK-I.NFOFINAL59L.gsheet', ' HOURLYINFY-I.NFOFINAL59L.csv', ' HOURLYINFY-I.NFOFINAL59Lhalf.csv', ' HOURLYJUBLFOOD-I.NFOFINAL59L.csv', ' HOURLYJUBLFOOD-I.NFOFINAL59Lhalf.csv', ' HOURLYLT-I.NFOFINAL59L.csv', ' HOURLYLT-I.NFOFINAL59Lhalf.csv', ' HOURLYLUPIN-I.NFOFINAL59L.csv', ' HOURLYLUPIN-I.NFOFINAL59Lhalf.csv', ' HOURLYMARUTI-I.NFOFINAL59L.csv', ' HOURLYMARUTI-I.NFOFINAL59Lhalf.csv', ' HOURLYMGL-I.NFOFINAL59L.csv', ' HOURLYMGL-I.NFOFINAL59Lhalf.csv', ' HOURLYMINDTREE-I.NFOFINAL59L.csv', ' HOURLYMINDTREE-I.NFOFINAL59Lhalf.csv', ' HOURLYNIFTY-I.NFOFINAL59L.csv', ' HOURLYNIFTY-I.NFOFINAL59Lhalf.csv', ' HOURLYNIFTY-I.NFOFINAL60L.csv', ' HOURLYRELIANCE-I.NFOFINAL59L.csv', ' HOURLYRELIANCE-I.NFOFINAL59Lhalf.csv', ' HOURLYSBIN-I.NFOFINAL59L.csv', ' HOURLYSBIN-I.NFOFINAL59Lhalf.csv', ' HOURLYSUNPHARMA-I.NFOFINAL59L.csv', ' HOURLYSUNPHARMA-I.NFOFINAL59Lhalf.csv', ' HOURLYSUNTV-I.NFOFINAL59L.csv', ' HOURLYSUNTV-I.NFOFINAL59Lhalf.csv', ' HOURLYTATAMOTORS-I.NFOFINAL59L.csv', ' HOURLYTATAMOTORS-I.NFOFINAL59Lhalf.csv', ' HOURLYTATASTEEL-I.NFOFINAL59L.csv', ' HOURLYTATASTEEL-I.NFOFINAL59Lhalf.csv', ' ICICIBANK-I.NFOFINAL10min.csv', ' ICICIBANK-I.NFOFINAL10minfromDEC2019.csv', ' ICICIBANK-I.NFOFINAL10minfromMAY2020.csv', ' ICICIBANK-I.NFOFINAL10minfromMAY.csv', ' ICICIBANK-I.NFOFINAL15min.csv', ' ICICIBANK-I.NFOFINAL15minfromDEC2019.csv', ' ICICIBANK-I.NFOFINAL15minfromMAY2020.csv', ' ICICIBANK-I.NFOFINAL15minfromMAY.csv', ' ICICIBANK-I.NFOFINAL5min.csv', ' ICICIBANK-I.NFOFINAL5minfromDEC2019.csv', ' ICICIBANK-I.NFOFINAL5minfromMAY2020.csv', ' ICICIBANK-I.NFOFINAL5minfromMAY.csv', ' INFY-I.NFOFINAL10min.csv', ' INFY-I.NFOFINAL10minfromDEC2019.csv', ' INFY-I.NFOFINAL10minfromMAY2020.csv', ' INFY-I.NFOFINAL10minfromMAY.csv', ' INFY-I.NFOFINAL15min.csv', ' INFY-I.NFOFINAL15minfromDEC2019.csv', ' INFY-I.NFOFINAL15minfromMAY2020.csv', ' INFY-I.NFOFINAL15minfromMAY.csv', ' INFY-I.NFOFINAL5min.csv', ' INFY-I.NFOFINAL5minfromDEC2019.csv', ' INFY-I.NFOFINAL5minfromMAY2020.csv', ' INFY-I.NFOFINAL5minfromMAY.csv', ' JUBLFOOD-I.NFOFINAL10min.csv', ' JUBLFOOD-I.NFOFINAL10minfromDEC2019.csv', ' JUBLFOOD-I.NFOFINAL10minfromMAY2020.csv', ' JUBLFOOD-I.NFOFINAL10minfromMAY.csv', ' JUBLFOOD-I.NFOFINAL15min.csv', ' JUBLFOOD-I.NFOFINAL15minfromDEC2019.csv', ' JUBLFOOD-I.NFOFINAL15minfromMAY2020.csv', ' JUBLFOOD-I.NFOFINAL15minfromMAY.csv', ' JUBLFOOD-I.NFOFINAL5min.csv', ' JUBLFOOD-I.NFOFINAL5minfromDEC2019.csv', ' JUBLFOOD-I.NFOFINAL5minfromMAY2020.csv', ' JUBLFOOD-I.NFOFINAL5minfromMAY.csv', ' justcheck.csv', ' LT-I.NFOFINAL10min.csv', ' LT-I.NFOFINAL10minfromDEC2019.csv', ' LT-I.NFOFINAL10minfromMAY2020.csv', ' LT-I.NFOFINAL10minfromMAY.csv', ' LT-I.NFOFINAL15min.csv', ' LT-I.NFOFINAL15minfromDEC2019.csv', ' LT-I.NFOFINAL15minfromMAY2020.csv', ' LT-I.NFOFINAL15minfromMAY.csv', ' LT-I.NFOFINAL5min.csv', ' LT-I.NFOFINAL5minfromDEC2019.csv', ' LT-I.NFOFINAL5minfromMAY2020.csv', ' LT-I.NFOFINAL5minfromMAY.csv', ' LUPIN-I.NFOFINAL10min.csv', ' LUPIN-I.NFOFINAL10minfromDEC2019.csv', ' LUPIN-I.NFOFINAL10minfromMAY2020.csv', ' LUPIN-I.NFOFINAL10minfromMAY.csv', ' LUPIN-I.NFOFINAL15min.csv', ' LUPIN-I.NFOFINAL15minfromDEC2019.csv', ' LUPIN-I.NFOFINAL15minfromMAY2020.csv', ' LUPIN-I.NFOFINAL15minfromMAY.csv', ' LUPIN-I.NFOFINAL5min.csv', ' LUPIN-I.NFOFINAL5minfromDEC2019.csv', ' LUPIN-I.NFOFINAL5minfromMAY2020.csv', ' LUPIN-I.NFOFINAL5minfromMAY.csv', ' MARUTI-I.NFOFINAL10min.csv', ' MARUTI-I.NFOFINAL10minfromDEC2019.csv', ' MARUTI-I.NFOFINAL10minfromMAY2020.csv', ' MARUTI-I.NFOFINAL10minfromMAY.csv', ' MARUTI-I.NFOFINAL15min.csv', ' MARUTI-I.NFOFINAL15minfromDEC2019.csv', ' MARUTI-I.NFOFINAL15minfromMAY2020.csv', ' MARUTI-I.NFOFINAL15minfromMAY.csv', ' MARUTI-I.NFOFINAL5min.csv', ' MARUTI-I.NFOFINAL5minfromDEC2019.csv', ' MARUTI-I.NFOFINAL5minfromMAY2020.csv', ' MARUTI-I.NFOFINAL5minfromMAY.csv', ' MGL-I.NFOFINAL10min.csv', ' MGL-I.NFOFINAL10minfromDEC2019.csv', ' MGL-I.NFOFINAL10minfromMAY2020.csv', ' MGL-I.NFOFINAL10minfromMAY.csv', ' MGL-I.NFOFINAL15min.csv', ' MGL-I.NFOFINAL15minfromDEC2019.csv', ' MGL-I.NFOFINAL15minfromMAY2020.csv', ' MGL-I.NFOFINAL15minfromMAY.csv', ' MGL-I.NFOFINAL5min.csv', ' MGL-I.NFOFINAL5minfromDEC2019.csv', ' MGL-I.NFOFINAL5minfromMAY2020.csv', ' MGL-I.NFOFINAL5minfromMAY.csv', \"'MINDTREE-I (1).NFOFINAL5minfromMAY.gsheet'\", ' MINDTREE-I.NFOFINAL10min.csv', ' MINDTREE-I.NFOFINAL10minfromDEC2019.csv', ' MINDTREE-I.NFOFINAL10minfromMAY2020.csv', ' MINDTREE-I.NFOFINAL10minfromMAY.csv', ' MINDTREE-I.NFOFINAL15min.csv', ' MINDTREE-I.NFOFINAL15minfromDEC2019.csv', ' MINDTREE-I.NFOFINAL15minfromMAY2020.csv', ' MINDTREE-I.NFOFINAL15minfromMAY.csv', ' MINDTREE-I.NFOFINAL5min1experimentDEC2019.csv', ' MINDTREE-I.NFOFINAL5min.csv', ' MINDTREE-I.NFOFINAL5minfrofmMAY.csv', ' MINDTREE-I.NFOFINAL5minfromDEC2019.csv', ' MINDTREE-I.NFOFINAL5minfromMAY2020.csv', ' MINDTREE-I.NFOFINAL5minfromMAY.csv', ' MINDTREE-I.NFOFINAL5minfromMAY.gsheet', ' MINDTREE-I.NFOFINAL5minfromyMAY.csv', ' newapproachcorrrrect.py', ' NEWAPPROACH_FROM_MAY.py', \"'NIFTY5MIN (1).csv'\", ' NIFTY5MIN.csv', ' NIFTY-I.NFOFINAL10min1experimentDEC2019.csv', ' NIFTY-I.NFOFINAL10min1hourfromDEC2019.csv', ' NIFTY-I.NFOFINAL10minfromDEC2019.csv', ' NIFTY-I.NFOFINAL10minfromMAY2020.csv', ' NIFTY-I.NFOFINAL15min1experimentDEC2019.csv', ' NIFTY-I.NFOFINAL15min1hourfromDEC2019.csv', ' NIFTY-I.NFOFINAL15minfromDEC2019.csv', ' NIFTY-I.NFOFINAL15minfromMAY2020.csv', ' NIFTY-I.NFOFINAL1min1hourfromDEC2019.csv', ' NIFTY-I.NFOFINAL1minfromDEC20195HL.csv', ' NIFTY-I.NFOFINAL2min1hourfromDEC2019.csv', ' NIFTY-I.NFOFINAL30min1hourfromDEC2019.csv', ' NIFTY-I.NFOFINAL3min1hourfromDEC2019.csv', ' NIFTY-I.NFOFINAL4min1hourfromDEC2019.csv', ' NIFTY-I.NFOFINAL5min1experimentDEC2019.csv', ' NIFTY-I.NFOFINAL5min1hourfromDEC2019.csv', \"'NIFTY-I.NFOFINAL5minfromDEC20195HL (1).gsheet'\", \"'NIFTY-I.NFOFINAL5minfromDEC20195HL (2).gsheet'\", ' NIFTY-I.NFOFINAL5minfromDEC20195HL.csv', ' NIFTY-I.NFOFINAL5minfromDEC20195HL.gsheet', ' NIFTY-I.NFOFINAL5minfromDEC2019.csv', ' NIFTY-I.NFOFINAL5minfromMAY2020.csv', ' NIFTY-I.NFOmax1takinghighlowtarget.csv', \"'NIFTY-I.NFOmax5takinghighlowtarget (1).gsheet'\", \"'NIFTY-I.NFOmax5takinghighlowtarget (2).gsheet'\", ' NIFTY-I.NFOmax5takinghighlowtarget.csv', ' NIFTY-I.NFOmax5takinghighlowtarget.gsheet', ' pnlatr.csv', ' RELIANCE-I.NFOFINAL10min1hourfromDEC2019.csv', ' RELIANCE-I.NFOFINAL10minfromDEC2019.csv', ' RELIANCE-I.NFOFINAL10minfromMAY2020.csv', ' RELIANCE-I.NFOFINAL15minfromDEC2019.csv', ' RELIANCE-I.NFOFINAL15minfromMAY2020.csv', ' RELIANCE-I.NFOFINAL5min1hourfromDEC2019.csv', ' RELIANCE-I.NFOFINAL5minfromDEC2019.csv', ' RELIANCE-I.NFOFINAL5minfromMAY2020.csv', ' RELIANCE-I.NFOmax10EXPERIMENTWITHOUTfromMAY.csv', ' RELIANCE-I.NFOmax15EXPERIMENTWITHOUTfromMAY.csv', ' RELIANCE-I.NFOmax5EXPERIMENTWITHOUTfromMAY.csv', ' report.csv', ' REPORTfromDEC2019.csv', ' REPORTfromDEC2019.gsheet', \"'REPORT from dec 2019 with may par.gsheet'\", ' REPORTfromDEC2019withouttarget.csv', ' REPORTfromDEC2019withouttarget.gsheet', ' REPORTfromdeccember.csv', \"'REPORTfromMAY2020 (1).gsheet'\", \"'REPORTfromMAY2020 (2).gsheet'\", ' REPORTfromMAY2020.csv', ' REPORTfromMAY2020.gsheet', \"'REPORTfrommay2020 with dec par.gsheet'\", \"'REPORTfromMAY2020withouttarget (1).gsheet'\", ' REPORTfromMAY2020withouttarget.csv', ' REPORTfromMAY2020withouttarget.gsheet', \"'REPORTfromMAY - Copy.csv'\", \"'REPORTfromMAY - CopyEXCEL.xlsx'\", ' REPORTfromMAY.csv', ' REPORTparofdec2029inmay2020.csv', ' REPORTparofmay2020indec2019.csv', ' SBIN-I.NFOFINAL10min.csv', ' SBIN-I.NFOFINAL10minfromDEC2019.csv', ' SBIN-I.NFOFINAL10minfromMAY2020.csv', ' SBIN-I.NFOFINAL10minfromMAY.csv', ' SBIN-I.NFOFINAL15min.csv', ' SBIN-I.NFOFINAL15minfromDEC2019.csv', ' SBIN-I.NFOFINAL15minfromMAY2020.csv', ' SBIN-I.NFOFINAL15minfromMAY.csv', ' SBIN-I.NFOFINAL5min.csv', ' SBIN-I.NFOFINAL5minfromDEC2019.csv', ' SBIN-I.NFOFINAL5minfromMAY2020.csv', ' SBIN-I.NFOFINAL5minfromMAY.csv', ' stoplossNIFTY-I.NFOmax5EXPERIMENTWITHOUTfromMAY.csv', ' SUNPHARMA-I.NFOFINAL10min.csv', ' SUNPHARMA-I.NFOFINAL10minfromDEC2019.csv', ' SUNPHARMA-I.NFOFINAL10minfromMAY2020.csv', ' SUNPHARMA-I.NFOFINAL10minfromMAY.csv', ' SUNPHARMA-I.NFOFINAL15min.csv', ' SUNPHARMA-I.NFOFINAL15minfromDEC2019.csv', ' SUNPHARMA-I.NFOFINAL15minfromMAY2020.csv', ' SUNPHARMA-I.NFOFINAL15minfromMAY.csv', ' SUNPHARMA-I.NFOFINAL5min.csv', ' SUNPHARMA-I.NFOFINAL5minfromDEC2019.csv', ' SUNPHARMA-I.NFOFINAL5minfromMAY2020.csv', ' SUNPHARMA-I.NFOFINAL5minfromMAY.csv', ' SUNTV-I.NFOFINAL10min.csv', ' SUNTV-I.NFOFINAL10minfromDEC2019.csv', ' SUNTV-I.NFOFINAL10minfromMAY2020.csv', ' SUNTV-I.NFOFINAL10minfromMAY.csv', ' SUNTV-I.NFOFINAL15min.csv', ' SUNTV-I.NFOFINAL15minfromDEC2019.csv', ' SUNTV-I.NFOFINAL15minfromMAY2020.csv', ' SUNTV-I.NFOFINAL15minfromMAY.csv', ' SUNTV-I.NFOFINAL5min.csv', ' SUNTV-I.NFOFINAL5minfromDEC2019.csv', ' SUNTV-I.NFOFINAL5minfromMAY2020.csv', ' SUNTV-I.NFOFINAL5minfromMAY.csv', ' TATAMOTORS-I.NFOFINAL10min.csv', ' TATAMOTORS-I.NFOFINAL10minfromDEC2019.csv', ' TATAMOTORS-I.NFOFINAL10minfromMAY2020.csv', ' TATAMOTORS-I.NFOFINAL10minfromMAY.csv', ' TATAMOTORS-I.NFOFINAL15min.csv', ' TATAMOTORS-I.NFOFINAL15minfromDEC2019.csv', ' TATAMOTORS-I.NFOFINAL15minfromMAY2020.csv', ' TATAMOTORS-I.NFOFINAL15minfromMAY.csv', ' TATAMOTORS-I.NFOFINAL5min.csv', ' TATAMOTORS-I.NFOFINAL5minfromDEC2019.csv', ' TATAMOTORS-I.NFOFINAL5minfromMAY2020.csv', ' TATAMOTORS-I.NFOFINAL5minfromMAY.csv', ' TATAMOTORS-I.NFOmax10reportfrommayoptimizeparam.csv', ' TATASTEEL-I.NFOFINAL10min.csv', ' TATASTEEL-I.NFOFINAL10minfromDEC2019.csv', ' TATASTEEL-I.NFOFINAL10minfromMAY2020.csv', ' TATASTEEL-I.NFOFINAL10minfromMAY.csv', ' TATASTEEL-I.NFOFINAL15min.csv', ' TATASTEEL-I.NFOFINAL15minfromDEC2019.csv', ' TATASTEEL-I.NFOFINAL15minfromMAY2020.csv', ' TATASTEEL-I.NFOFINAL15minfromMAY.csv', ' TATASTEEL-I.NFOFINAL5min.csv', ' TATASTEEL-I.NFOFINAL5minfromDEC2019.csv', ' TATASTEEL-I.NFOFINAL5minfromMAY2020.csv', ' TATASTEEL-I.NFOFINAL5minfromMAY.csv', \"'withatrHOURLYNIFTY-I (1).NFOFINAL60L.gsheet'\", ' withatrHOURLYNIFTY-I.NFOFINAL60L.csv', ' withatrHOURLYNIFTY-I.NFOFINAL60L.gsheet']\n"
          ],
          "name": "stdout"
        }
      ]
    },
    {
      "cell_type": "code",
      "metadata": {
        "colab": {
          "base_uri": "https://localhost:8080/"
        },
        "id": "45wU-TQzLMFG",
        "outputId": "7356bfd4-0abd-4de9-bdf9-0f4427f70602"
      },
      "source": [
        "pd.options.mode.chained_assignment = None \n",
        "dfx = pd.DataFrame( columns = [\"STOCK\",\"CANDLE\",\"PERIOD\",\"BUYTARGETACHIEVED\",\"SELLTARGETACHIEVED\",\"PROFITABLETRADES\",\"LOSSTRADES\", \"TOTALTRADES\",\"PNL\"])\n",
        "                               \n",
        "STOCKS = ['NIFTY','BANKNIFTY','RELIANCE','HDFC','HDFCBANK','TATAMOTORS','TATASTEEL','ASHOKLEY','AXISBANK','AUROPHARMA','BHARATFORG','BPCL','BIOCON','BHARTIARTL','BANKBARODA','CIPLA','CADILAHC','DIVISLAB','DRREDDY','ESCORTS','GLENMARK','HINDALCO','HCLTECH','INFY','ICICIBANK','LUPIN','LT','MARUTI','SUNTV','SUNPHARMA','SBIN','BAJFINANCE','BATAINDIA','MGL','MINDTREE','JUBLFOOD','INDUSINDBK']\n",
        "\n",
        "STOCKS = ['NIFTY','BANKNIFTY']\n",
        "#STOCKS = ['MOTHERSUMI','NATIONALUM','NMDC','NTPC','SAIL','SIEMENS','TATACHEM','TATAMOTORS','TATAPOWER','VEDL','ADANIENT','ADANIPORTS','BEL','BHARTIARTL','BHEL','BPCL','CUMMINSIND','GMRINFRA','GRASIM','L&TFH']\n",
        "\n",
        "\n",
        "\n",
        "minutess = [5,10,15,30,60,90,120]\n",
        "#minutess = [120]\n",
        "\n",
        "\n",
        "for instrument in STOCKS:\n",
        "  print(instrument)\n",
        "  stock = f\"{instrument}-I.NFO\"\n",
        "  listt = []\n",
        "  \n",
        "  for minutes in minutess:\n",
        "    df = pd.read_csv(f\"/content/drive/My Drive/reports/{instrument} [NSE FAO] 25MAR2021(I-{minutes}m).csv\")\n",
        "    df.columns = ['DATETIME',f'Open{minutes}Min',f'High{minutes}Min',f'Low{minutes}Min',f'Close{minutes}Min','Volume','Value','OI','DQ','Unnamed: 9']\n",
        "    df['DATETIME'] = df.iloc[:,0]\n",
        "    #pd.to_datetime(df['DATETIME'], format='%Y-%m-%d %H:%M:%S')\n",
        "    pd.to_datetime(df['DATETIME'], format='%d/%m/%Y %H:%M:%S  %p')\n",
        "    for period in np.arange(2,50):\n",
        "  \n",
        "      \n",
        "      #df = pd.read_csv(f\"/content/drive/My Drive/reports/alltimeframe{stock}FINALLhalf.csv\")\n",
        "      #df = df.set_index('DATETIME')\n",
        "      \n",
        "      \n",
        "\n",
        "      dfvolget = df.loc[(df[f'High{minutes}Min'] > 0)]\n",
        "\n",
        "      \n",
        "      noofrows = (dfvolget.shape[0])\n",
        "      period = min(noofrows,period)\n",
        "\n",
        "      dfvolget['openma'] = ta.trend.sma_indicator(dfvolget[f'Open{minutes}Min'],window = int(period))\n",
        "      dfvolget['closema'] = ta.trend.sma_indicator(dfvolget[f'Close{minutes}Min'],window = int(period))\n",
        " \n",
        "\n",
        "      df['openma'] = dfvolget['openma']\n",
        "      df['closema'] = dfvolget['closema']\n",
        "\n",
        "\n",
        "\n",
        "      df['openma'] = (df['openma'].ffill())\n",
        "      df['closema'] = (df['closema'].ffill())\n",
        "           \n",
        "      df['openma'] = (df['openma'].shift(1))\n",
        "      df['closema'] = (df['closema'].shift(1))\n",
        "      df[f'Openfortrade{minutes}Min'] = df[f'Open{minutes}Min'].shift(-1)\n",
        "\n",
        "\n",
        "      dfz = pd.DataFrame(columns= df.columns)\n",
        "\n",
        "      buytoploss = []\n",
        "      sellstoploss = []\n",
        "      traded = 0\n",
        "      squareoff = 0\n",
        "      buytraded = 0\n",
        "      selltraded = 0\n",
        "      buytradedat = 0\n",
        "      selltradedat = 0\n",
        "      df['PNL'] = np.NaN\n",
        "      df['TRADE'] = np.NaN\n",
        "      #df['TRADED'] = np.NaN\n",
        "\n",
        "      group = (df.loc[(df[f'Close{minutes}Min'] > 0)])\n",
        "      \n",
        "\n",
        "\n",
        "      group.loc[group['closema'] > group['openma'], 'TRADE'] = 'BUY'\n",
        "      group.loc[group[f'closema'] < group['openma'], 'TRADE'] = 'SELL'\n",
        "      group.dropna(subset = [\"TRADE\"], inplace=True)\n",
        "\n",
        "      trade_signal = group['TRADE']\n",
        "      ts_shifted = trade_signal.shift(1)\n",
        "      group['TRADE'] = np.where(trade_signal != ts_shifted, trade_signal, np.NaN)\n",
        "\n",
        "      group.dropna(subset = [\"TRADE\"], inplace=True)\n",
        "\n",
        "     \n",
        "      \n",
        "      group.loc[group['TRADE'] == 'BUY', 'TRADED'] = group[f'Openfortrade{minutes}Min']\n",
        "      group.loc[group['TRADE'] == 'SELL', 'TRADED'] = group[f'Openfortrade{minutes}Min']\n",
        "\n",
        "      trade_signal = group['TRADE']\n",
        "      traded_signal = group['TRADED']\n",
        "      ts_shifted = trade_signal.shift(1)\n",
        "      trade_shifted = traded_signal.shift(1)\n",
        "      group['PNL'] = np.where(trade_signal == 'BUY',trade_shifted - traded_signal,traded_signal - trade_shifted)\n",
        "\n",
        "      dfz = group\n",
        "\n",
        "\n",
        "\n",
        "\n",
        "\n",
        "\n",
        "      XP = (dfz.loc[(dfz['TRADE'] == \"SELL\") & (dfz['PNL'] > 0)])\n",
        "      buytargetachieved = XP.shape[0]\n",
        "      XP = (dfz.loc[(dfz['TRADE'] == \"BUY\") & (dfz['PNL'] > 0)])\n",
        "      selltargetachieved = XP.shape[0]\n",
        "      XP = (dfz.loc[(dfz['PNL'] < 0)])\n",
        "      losstrades = XP.shape[0]\n",
        "      XP = (dfz.loc[(dfz['PNL'] > 0)])\n",
        "      profittrades = XP.shape[0]\n",
        "      XP = 0\n",
        "      totaltrades = profittrades + losstrades\n",
        "\n",
        "      #experiment\n",
        "      total = dfz['PNL'].sum()\n",
        "      #dfz.to_csv(f\"/content/drive/My Drive/reports/ATRREP.csv\")\n",
        "      #experiment\n",
        "\n",
        "\n",
        "\n",
        "\n",
        "      report = [stock, minutes,period, buytargetachieved, selltargetachieved,profittrades, losstrades, totaltrades, total]\n",
        "             \n",
        "      TOTAL = [total,report]\n",
        "      listt.append(TOTAL)\n",
        "      dfz = pd.DataFrame()\n",
        "\n",
        "\n",
        "\n",
        "\n",
        "  report = max(listt)[-1]\n",
        "  \n",
        "\n",
        "  to_append = report\n",
        "  a_series = pd.Series(to_append, index=dfx.columns)\n",
        "  dfx = dfx.append(a_series, ignore_index=True)\n",
        "\n",
        "  #print(dfz)\n",
        "  #print(dfz.to_csv(f\"/content/drive/My Drive/reports/{stock}max{minutes}EXPERIMENTWITHOUTfromMAY.csv\"))\n",
        "  listt.clear()\n",
        "  dfz = pd.DataFrame()\n",
        "  \n",
        "\n",
        "print(dfx)  \n",
        "#print(dfx.to_csv(f\"/content/drive/My Drive/reports/ATRREP.csv\"))\n",
        "\n"
      ],
      "execution_count": null,
      "outputs": [
        {
          "output_type": "stream",
          "text": [
            "NIFTY\n",
            "BANKNIFTY\n",
            "             STOCK CANDLE PERIOD  ... LOSSTRADES TOTALTRADES       PNL\n",
            "0      NIFTY-I.NFO     15      5  ...        109         215   2587.65\n",
            "1  BANKNIFTY-I.NFO     10     43  ...         58         119  11114.30\n",
            "\n",
            "[2 rows x 9 columns]\n"
          ],
          "name": "stdout"
        }
      ]
    },
    {
      "cell_type": "code",
      "metadata": {
        "colab": {
          "base_uri": "https://localhost:8080/",
          "height": 111
        },
        "id": "wRv2onvRr-m_",
        "outputId": "aa56f9ac-1e6e-47b1-a189-73c10c847c44"
      },
      "source": [
        "dfx"
      ],
      "execution_count": null,
      "outputs": [
        {
          "output_type": "execute_result",
          "data": {
            "text/html": [
              "<div>\n",
              "<style scoped>\n",
              "    .dataframe tbody tr th:only-of-type {\n",
              "        vertical-align: middle;\n",
              "    }\n",
              "\n",
              "    .dataframe tbody tr th {\n",
              "        vertical-align: top;\n",
              "    }\n",
              "\n",
              "    .dataframe thead th {\n",
              "        text-align: right;\n",
              "    }\n",
              "</style>\n",
              "<table border=\"1\" class=\"dataframe\">\n",
              "  <thead>\n",
              "    <tr style=\"text-align: right;\">\n",
              "      <th></th>\n",
              "      <th>STOCK</th>\n",
              "      <th>CANDLE</th>\n",
              "      <th>PERIOD</th>\n",
              "      <th>BUYTARGETACHIEVED</th>\n",
              "      <th>SELLTARGETACHIEVED</th>\n",
              "      <th>PROFITABLETRADES</th>\n",
              "      <th>LOSSTRADES</th>\n",
              "      <th>TOTALTRADES</th>\n",
              "      <th>PNL</th>\n",
              "    </tr>\n",
              "  </thead>\n",
              "  <tbody>\n",
              "    <tr>\n",
              "      <th>0</th>\n",
              "      <td>NIFTY-I.NFO</td>\n",
              "      <td>15</td>\n",
              "      <td>5</td>\n",
              "      <td>52</td>\n",
              "      <td>54</td>\n",
              "      <td>106</td>\n",
              "      <td>109</td>\n",
              "      <td>215</td>\n",
              "      <td>2587.65</td>\n",
              "    </tr>\n",
              "    <tr>\n",
              "      <th>1</th>\n",
              "      <td>BANKNIFTY-I.NFO</td>\n",
              "      <td>10</td>\n",
              "      <td>43</td>\n",
              "      <td>27</td>\n",
              "      <td>34</td>\n",
              "      <td>61</td>\n",
              "      <td>58</td>\n",
              "      <td>119</td>\n",
              "      <td>11114.30</td>\n",
              "    </tr>\n",
              "  </tbody>\n",
              "</table>\n",
              "</div>"
            ],
            "text/plain": [
              "             STOCK CANDLE PERIOD  ... LOSSTRADES TOTALTRADES       PNL\n",
              "0      NIFTY-I.NFO     15      5  ...        109         215   2587.65\n",
              "1  BANKNIFTY-I.NFO     10     43  ...         58         119  11114.30\n",
              "\n",
              "[2 rows x 9 columns]"
            ]
          },
          "metadata": {
            "tags": []
          },
          "execution_count": 15
        }
      ]
    },
    {
      "cell_type": "code",
      "metadata": {
        "id": "r0XxtbYhM0lM"
      },
      "source": [
        "dfx.to_csv('/content/drive/My Drive/reportss/atrlatestniftybanknifty.csv')\n",
        "\n",
        "\n",
        "\n"
      ],
      "execution_count": null,
      "outputs": []
    },
    {
      "cell_type": "code",
      "metadata": {
        "colab": {
          "base_uri": "https://localhost:8080/"
        },
        "id": "LZwPm5AKO_9w",
        "outputId": "671b8e3c-26f3-4afa-a9a3-2a83b964f779"
      },
      "source": [
        "minutess = [5,10,15]\n",
        "for minutes in minutess:\n",
        "  dfz = pd.DataFrame(columns= df.columns)\n",
        "\n",
        "  buytoploss = []\n",
        "  sellstoploss = []\n",
        "  traded = 0\n",
        "  squareoff = 0\n",
        "  buytraded = 0\n",
        "  selltraded = 0\n",
        "  buytradedat = 0\n",
        "  selltradedat = 0\n",
        "  df['PNL'] = np.NaN\n",
        "  df['TRADE'] = np.NaN\n",
        "  df['TRADED'] = np.NaN\n",
        "\n",
        "  group = (df.loc[(df[f'Close{minutes}Min'] > 0)])\n",
        "  print(group)\n",
        "  for i in range(len(group)):\n",
        "      if buytraded == 'BUY' and selltraded != 'SELL':      \n",
        "          buytoploss.append(group['LOWERATR'].iloc[i-1])\n",
        "          stoploss = max(buytoploss)\n",
        "          if (group[f'Low{minutes}Min'].iloc[i] < stoploss):\n",
        "              group['TRADED'].iloc[i] = stoploss\n",
        "              group['TRADE'].iloc[i] = 'SELLSQUARE'\n",
        "              group['PNL'].iloc[i] = (stoploss - buytradedat)\n",
        "              dfz = dfz.append(group.iloc[i])\n",
        "              squareoff = 1\n",
        "              buytraded = 0\n",
        "              buytoploss.clear()\n",
        "\n",
        "      if selltraded == 'SELL'  and buytraded != 'BUY':\n",
        "        sellstoploss.append(group['UPPERATR'].iloc[i-1])\n",
        "        stoploss = min(sellstoploss)\n",
        "        if (group[f'High{minutes}Min'].iloc[i] > stoploss):\n",
        "            group['TRADED'].iloc[i] = stoploss\n",
        "            group['TRADE'].iloc[i] = 'BUYSQUARE'\n",
        "            group['PNL'].iloc[i] = (selltradedat - stoploss)\n",
        "            dfz = dfz.append(group.iloc[i])\n",
        "            squareoff = 1\n",
        "            selltraded = 0\n",
        "            sellstoploss.clear()\n",
        "\n",
        "      if group[f'Close{minutes}Min'].iloc[i]> group['UPPERATR'].iloc[i] and buytraded == 0 and  selltraded != 'SELL':\n",
        "          group['TRADE'].iloc[i] = 'BUY'\n",
        "          group['TRADED'].iloc[i] = group[f'Close{minutes}Min'].iloc[i]\n",
        "          dfz = dfz.append(group.iloc[i])\n",
        "          buytraded = 'BUY'\n",
        "          buytradedat = group[f'Close{minutes}Min'].iloc[i]\n",
        "          \n",
        "\n",
        "\n",
        "      if group[f'Close{minutes}Min'].iloc[i] < group['LOWERATR'].iloc[i] and selltraded == 0 and buytraded != 'BUY':\n",
        "          group['TRADE'].iloc[i] = 'SELL'\n",
        "          group['TRADED'].iloc[i] = group[f'Close{minutes}Min'].iloc[i]\n",
        "          dfz = dfz.append(group.iloc[i])\n",
        "          selltraded = 'SELL' \n",
        "          selltradedat = group[f'Close{minutes}Min'].iloc[i]      \n",
        "\n",
        "\n",
        "\n",
        "  dfz.loc[dfz['TRADE'] == 'BUY', 'PNL'] = np.NaN\n",
        "  dfz.loc[dfz['TRADE'] == 'SELL', 'PNL'] = np.NaN\n",
        "  XP = (dfz.loc[(dfz['TRADE'] == \"SELLSQUARE\") & (dfz['PNL'] > 0)])\n",
        "  buytargetachieved = XP.shape[0]\n",
        "  XP = (dfz.loc[(dfz['TRADE'] == \"BUYSQUARE\") & (dfz['PNL'] > 0)])\n",
        "  selltargetachieved = XP.shape[0]\n",
        "  XP = (dfz.loc[(dfz['PNL'] < 0)])\n",
        "  losstrades = XP.shape[0]\n",
        "  XP = (dfz.loc[(dfz['PNL'] > 0)])\n",
        "  profittrades = XP.shape[0]\n",
        "  XP = 0\n",
        "  totaltrades = profittrades + losstrades\n",
        "\n",
        "  #experiment\n",
        "  total = dfz['PNL'].sum()\n",
        "  #experiment\n",
        "\n",
        "\n",
        "\n",
        "\n",
        "  report = [stock, \"fromDEC2019\", minutes, buytargetachieved, selltargetachieved,profittrades, losstrades, totaltrades, total]          \n",
        "  TOTAL = [total,report]\n",
        "  listt.append(TOTAL)\n",
        "\n",
        "\n",
        "to_append =max(listt)[-1]\n",
        "a_series = pd.Series(to_append, index=dfx.columns)\n",
        "dfx = dfx.append(a_series, ignore_index=True)\n",
        "listt.clear()\n",
        "dfz = pd.DataFrame()\n",
        "\n",
        "\n",
        "\n"
      ],
      "execution_count": null,
      "outputs": [
        {
          "output_type": "stream",
          "text": [
            "                              Unnamed: 0     Open     High  ...  PNL  TRADE  TRADED\n",
            "DATETIME                                                    ...                    \n",
            "2019-12-02 09:29:00  2019-12-02 09:29:00  31915.3  31915.3  ...  NaN    NaN     NaN\n",
            "2019-12-02 09:44:00  2019-12-02 09:44:00  31990.0  32028.5  ...  NaN    NaN     NaN\n",
            "2019-12-02 09:59:00  2019-12-02 09:59:00  31973.7  31987.9  ...  NaN    NaN     NaN\n",
            "2019-12-02 10:14:00  2019-12-02 10:14:00  31928.7  31928.7  ...  NaN    NaN     NaN\n",
            "2019-12-02 10:29:00  2019-12-02 10:29:00  31866.6  31869.0  ...  NaN    NaN     NaN\n",
            "...                                  ...      ...      ...  ...  ...    ...     ...\n",
            "2020-11-27 14:29:00  2020-11-27 14:29:00  29683.8  29699.6  ...  NaN    NaN     NaN\n",
            "2020-11-27 14:44:00  2020-11-27 14:44:00  29642.0  29654.0  ...  NaN    NaN     NaN\n",
            "2020-11-27 14:59:00  2020-11-27 14:59:00  29650.0  29675.0  ...  NaN    NaN     NaN\n",
            "2020-11-27 15:14:00  2020-11-27 15:14:00  29682.9  29685.0  ...  NaN    NaN     NaN\n",
            "2020-11-27 15:29:00  2020-11-27 15:29:00  29640.0  29646.4  ...  NaN    NaN     NaN\n",
            "\n",
            "[5150 rows x 27 columns]\n"
          ],
          "name": "stdout"
        },
        {
          "output_type": "stream",
          "text": [
            "/usr/local/lib/python3.6/dist-packages/pandas/core/indexing.py:670: SettingWithCopyWarning: \n",
            "A value is trying to be set on a copy of a slice from a DataFrame\n",
            "\n",
            "See the caveats in the documentation: https://pandas.pydata.org/pandas-docs/stable/user_guide/indexing.html#returning-a-view-versus-a-copy\n",
            "  iloc._setitem_with_indexer(indexer, value)\n",
            "/usr/local/lib/python3.6/dist-packages/ipykernel_launcher.py:52: SettingWithCopyWarning: \n",
            "A value is trying to be set on a copy of a slice from a DataFrame\n",
            "\n",
            "See the caveats in the documentation: https://pandas.pydata.org/pandas-docs/stable/user_guide/indexing.html#returning-a-view-versus-a-copy\n",
            "/usr/local/lib/python3.6/dist-packages/ipykernel_launcher.py:53: SettingWithCopyWarning: \n",
            "A value is trying to be set on a copy of a slice from a DataFrame\n",
            "\n",
            "See the caveats in the documentation: https://pandas.pydata.org/pandas-docs/stable/user_guide/indexing.html#returning-a-view-versus-a-copy\n",
            "/usr/local/lib/python3.6/dist-packages/ipykernel_launcher.py:34: SettingWithCopyWarning: \n",
            "A value is trying to be set on a copy of a slice from a DataFrame\n",
            "\n",
            "See the caveats in the documentation: https://pandas.pydata.org/pandas-docs/stable/user_guide/indexing.html#returning-a-view-versus-a-copy\n",
            "/usr/local/lib/python3.6/dist-packages/ipykernel_launcher.py:35: SettingWithCopyWarning: \n",
            "A value is trying to be set on a copy of a slice from a DataFrame\n",
            "\n",
            "See the caveats in the documentation: https://pandas.pydata.org/pandas-docs/stable/user_guide/indexing.html#returning-a-view-versus-a-copy\n",
            "/usr/local/lib/python3.6/dist-packages/ipykernel_launcher.py:36: SettingWithCopyWarning: \n",
            "A value is trying to be set on a copy of a slice from a DataFrame\n",
            "\n",
            "See the caveats in the documentation: https://pandas.pydata.org/pandas-docs/stable/user_guide/indexing.html#returning-a-view-versus-a-copy\n",
            "/usr/local/lib/python3.6/dist-packages/ipykernel_launcher.py:43: SettingWithCopyWarning: \n",
            "A value is trying to be set on a copy of a slice from a DataFrame\n",
            "\n",
            "See the caveats in the documentation: https://pandas.pydata.org/pandas-docs/stable/user_guide/indexing.html#returning-a-view-versus-a-copy\n",
            "/usr/local/lib/python3.6/dist-packages/ipykernel_launcher.py:44: SettingWithCopyWarning: \n",
            "A value is trying to be set on a copy of a slice from a DataFrame\n",
            "\n",
            "See the caveats in the documentation: https://pandas.pydata.org/pandas-docs/stable/user_guide/indexing.html#returning-a-view-versus-a-copy\n",
            "/usr/local/lib/python3.6/dist-packages/ipykernel_launcher.py:22: SettingWithCopyWarning: \n",
            "A value is trying to be set on a copy of a slice from a DataFrame\n",
            "\n",
            "See the caveats in the documentation: https://pandas.pydata.org/pandas-docs/stable/user_guide/indexing.html#returning-a-view-versus-a-copy\n",
            "/usr/local/lib/python3.6/dist-packages/ipykernel_launcher.py:23: SettingWithCopyWarning: \n",
            "A value is trying to be set on a copy of a slice from a DataFrame\n",
            "\n",
            "See the caveats in the documentation: https://pandas.pydata.org/pandas-docs/stable/user_guide/indexing.html#returning-a-view-versus-a-copy\n",
            "/usr/local/lib/python3.6/dist-packages/ipykernel_launcher.py:24: SettingWithCopyWarning: \n",
            "A value is trying to be set on a copy of a slice from a DataFrame\n",
            "\n",
            "See the caveats in the documentation: https://pandas.pydata.org/pandas-docs/stable/user_guide/indexing.html#returning-a-view-versus-a-copy\n"
          ],
          "name": "stderr"
        },
        {
          "output_type": "stream",
          "text": [
            "                              Unnamed: 0     Open  ...       TRADE        TRADED\n",
            "2019-12-03 09:59:00  2019-12-03 09:59:00  31810.0  ...        SELL  31806.900000\n",
            "2019-12-04 09:59:00  2019-12-04 09:59:00  31839.0  ...   BUYSQUARE  31742.575869\n",
            "2019-12-04 09:59:00  2019-12-04 09:59:00  31839.0  ...         BUY  31863.400000\n",
            "2019-12-04 12:59:00  2019-12-04 12:59:00  31740.1  ...  SELLSQUARE  31749.257884\n",
            "2019-12-04 12:59:00  2019-12-04 12:59:00  31740.1  ...        SELL  31716.400000\n",
            "...                                  ...      ...  ...         ...           ...\n",
            "2020-11-24 09:29:00  2020-11-24 09:29:00  29344.3  ...         BUY  29385.000000\n",
            "2020-11-25 10:44:00  2020-11-25 10:44:00  29850.1  ...  SELLSQUARE  29903.350143\n",
            "2020-11-25 10:44:00  2020-11-25 10:44:00  29850.1  ...        SELL  29833.800000\n",
            "2020-11-26 12:59:00  2020-11-26 12:59:00  29332.0  ...   BUYSQUARE  29215.156864\n",
            "2020-11-26 12:59:00  2020-11-26 12:59:00  29332.0  ...         BUY  29353.600000\n",
            "\n",
            "[309 rows x 27 columns]\n",
            "16361.02578693971\n"
          ],
          "name": "stdout"
        }
      ]
    },
    {
      "cell_type": "code",
      "metadata": {
        "colab": {
          "base_uri": "https://localhost:8080/"
        },
        "id": "kUemmhfARS0V",
        "outputId": "95db7c25-2f7c-4be8-83da-63baa1fad75a"
      },
      "source": [
        "print(dfz['PNL'])"
      ],
      "execution_count": null,
      "outputs": [
        {
          "output_type": "stream",
          "text": [
            "2019-12-03 09:59:00           NaN\n",
            "2019-12-04 09:59:00     64.324131\n",
            "2019-12-04 09:59:00           NaN\n",
            "2019-12-04 12:59:00   -114.142116\n",
            "2019-12-04 12:59:00           NaN\n",
            "                          ...    \n",
            "2020-11-24 09:29:00           NaN\n",
            "2020-11-25 10:44:00    518.350143\n",
            "2020-11-25 10:44:00           NaN\n",
            "2020-11-26 12:59:00    618.643136\n",
            "2020-11-26 12:59:00           NaN\n",
            "Name: PNL, Length: 309, dtype: float64\n"
          ],
          "name": "stdout"
        }
      ]
    },
    {
      "cell_type": "code",
      "metadata": {
        "id": "Q7NaSERXSMYy"
      },
      "source": [
        "df['PNL'] = group['PNL'] \n",
        "df['TRADE'] = group['TRADE']\n",
        "df['TRADED'] = group['TRADED']"
      ],
      "execution_count": null,
      "outputs": []
    },
    {
      "cell_type": "code",
      "metadata": {
        "id": "SNSHCa_vTIHD"
      },
      "source": [
        "dfz.to_csv('/content/drive/My Drive/reports/ATR15REPORT.csv')"
      ],
      "execution_count": null,
      "outputs": []
    },
    {
      "cell_type": "code",
      "metadata": {
        "colab": {
          "base_uri": "https://localhost:8080/"
        },
        "id": "tuRLEwMS1RHk",
        "outputId": "402ecc57-a783-43d5-d95d-e2975c6de611"
      },
      "source": [
        "print(dfz['PNL'].sum())"
      ],
      "execution_count": null,
      "outputs": [
        {
          "output_type": "stream",
          "text": [
            "5274.592589367004\n"
          ],
          "name": "stdout"
        }
      ]
    },
    {
      "cell_type": "code",
      "metadata": {
        "colab": {
          "base_uri": "https://localhost:8080/"
        },
        "id": "CYwVl1GTtYJw",
        "outputId": "c04c6853-ab3c-4ea9-a10d-6309ec3eb764"
      },
      "source": [
        "print(df['PNL'].sum())"
      ],
      "execution_count": null,
      "outputs": [
        {
          "output_type": "stream",
          "text": [
            "7248.2491362945975\n"
          ],
          "name": "stdout"
        }
      ]
    }
  ]
}